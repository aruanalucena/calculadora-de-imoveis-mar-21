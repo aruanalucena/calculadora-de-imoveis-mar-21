{
  "nbformat": 4,
  "nbformat_minor": 0,
  "metadata": {
    "colab": {
      "name": "awari_mar_coleta_dados_mercado_livre_aula7.ipynb",
      "provenance": [],
      "collapsed_sections": []
    },
    "kernelspec": {
      "name": "python3",
      "display_name": "Python 3"
    },
    "language_info": {
      "name": "python"
    }
  },
  "cells": [
    {
      "cell_type": "markdown",
      "metadata": {
        "id": "RsyrL7BMGemY"
      },
      "source": [
        "# Coleta de dados para a calculadora de imóveis"
      ]
    },
    {
      "cell_type": "code",
      "metadata": {
        "id": "08EaWmrFfqXl"
      },
      "source": [
        "from time import sleep\n",
        "import pandas as pd\n",
        "from bs4 import BeautifulSoup\n",
        "import requests"
      ],
      "execution_count": null,
      "outputs": []
    },
    {
      "cell_type": "code",
      "metadata": {
        "id": "lluQxdo5eB5y"
      },
      "source": [
        "zonas = ['sul', 'norte', 'leste', 'oeste']\n",
        "paginas = ['', '_Desde_49', '_Desde_97', '_Desde_145', '_Desde_193', '_Desde_241']"
      ],
      "execution_count": null,
      "outputs": []
    },
    {
      "cell_type": "code",
      "metadata": {
        "id": "aL10UzVs8nX_"
      },
      "source": [
        "def coleta_dados(url, zona):\n",
        "  # acessar a url, coletar as informacoes e ir salvando nas listas e depois juntar as listas em uma tabela\n",
        "  res = requests.get(url).content\n",
        "  sopa = BeautifulSoup(res)\n",
        "  \n",
        "  rs_precos = sopa.find_all('span', {'class': 'price-tag-fraction'})\n",
        "  rs_areas_quartos = sopa.find_all('ul', {'class': 'ui-search-card-attributes ui-search-item__group__element'})\n",
        "\n",
        "  lista_precos = []\n",
        "  lista_areas_quartos = []\n",
        "  lista_zonas = []\n",
        "    \n",
        "  for preco, area_quarto in zip(rs_precos, rs_areas_quartos):\n",
        "    lista_precos.append(preco.text)\n",
        "    lista_areas_quartos.append(area_quarto.text)\n",
        "    lista_zonas.append(zona)\n",
        "    \n",
        "  dados = {'aluguel': lista_precos,\n",
        "  'area_quarto': lista_areas_quartos,\n",
        "  'zona': lista_zonas}\n",
        "    \n",
        "  df = pd.DataFrame(dados)\n",
        "\n",
        "  return df"
      ],
      "execution_count": null,
      "outputs": []
    },
    {
      "cell_type": "code",
      "metadata": {
        "id": "tYpO5vBeQMTJ",
        "colab": {
          "base_uri": "https://localhost:8080/"
        },
        "outputId": "c958dbaf-5e73-4025-d001-93a02d328638"
      },
      "source": [
        "lista_dfs = []\n",
        "\n",
        "for zona in zonas:\n",
        "  # print('Zona:', zona)\n",
        "  for pagina in paginas:\n",
        "    # print('Pagina:', pagina)\n",
        "    url = f'https://imoveis.mercadolivre.com.br/apartamentos/aluguel/sao-paulo/sao-paulo-zona-{zona}/{pagina}'\n",
        "    print('Coletando dados de', url)\n",
        "    df = coleta_dados(url, zona) # retorna o df \n",
        "    lista_dfs.append(df)\n",
        "    sleep(2)"
      ],
      "execution_count": null,
      "outputs": [
        {
          "output_type": "stream",
          "text": [
            "Coletando dados de https://imoveis.mercadolivre.com.br/apartamentos/aluguel/sao-paulo/sao-paulo-zona-sul/\n",
            "Coletando dados de https://imoveis.mercadolivre.com.br/apartamentos/aluguel/sao-paulo/sao-paulo-zona-sul/_Desde_49\n",
            "Coletando dados de https://imoveis.mercadolivre.com.br/apartamentos/aluguel/sao-paulo/sao-paulo-zona-sul/_Desde_97\n",
            "Coletando dados de https://imoveis.mercadolivre.com.br/apartamentos/aluguel/sao-paulo/sao-paulo-zona-sul/_Desde_145\n",
            "Coletando dados de https://imoveis.mercadolivre.com.br/apartamentos/aluguel/sao-paulo/sao-paulo-zona-sul/_Desde_193\n",
            "Coletando dados de https://imoveis.mercadolivre.com.br/apartamentos/aluguel/sao-paulo/sao-paulo-zona-sul/_Desde_241\n",
            "Coletando dados de https://imoveis.mercadolivre.com.br/apartamentos/aluguel/sao-paulo/sao-paulo-zona-norte/\n",
            "Coletando dados de https://imoveis.mercadolivre.com.br/apartamentos/aluguel/sao-paulo/sao-paulo-zona-norte/_Desde_49\n",
            "Coletando dados de https://imoveis.mercadolivre.com.br/apartamentos/aluguel/sao-paulo/sao-paulo-zona-norte/_Desde_97\n",
            "Coletando dados de https://imoveis.mercadolivre.com.br/apartamentos/aluguel/sao-paulo/sao-paulo-zona-norte/_Desde_145\n",
            "Coletando dados de https://imoveis.mercadolivre.com.br/apartamentos/aluguel/sao-paulo/sao-paulo-zona-norte/_Desde_193\n",
            "Coletando dados de https://imoveis.mercadolivre.com.br/apartamentos/aluguel/sao-paulo/sao-paulo-zona-norte/_Desde_241\n",
            "Coletando dados de https://imoveis.mercadolivre.com.br/apartamentos/aluguel/sao-paulo/sao-paulo-zona-leste/\n",
            "Coletando dados de https://imoveis.mercadolivre.com.br/apartamentos/aluguel/sao-paulo/sao-paulo-zona-leste/_Desde_49\n",
            "Coletando dados de https://imoveis.mercadolivre.com.br/apartamentos/aluguel/sao-paulo/sao-paulo-zona-leste/_Desde_97\n",
            "Coletando dados de https://imoveis.mercadolivre.com.br/apartamentos/aluguel/sao-paulo/sao-paulo-zona-leste/_Desde_145\n",
            "Coletando dados de https://imoveis.mercadolivre.com.br/apartamentos/aluguel/sao-paulo/sao-paulo-zona-leste/_Desde_193\n",
            "Coletando dados de https://imoveis.mercadolivre.com.br/apartamentos/aluguel/sao-paulo/sao-paulo-zona-leste/_Desde_241\n",
            "Coletando dados de https://imoveis.mercadolivre.com.br/apartamentos/aluguel/sao-paulo/sao-paulo-zona-oeste/\n",
            "Coletando dados de https://imoveis.mercadolivre.com.br/apartamentos/aluguel/sao-paulo/sao-paulo-zona-oeste/_Desde_49\n",
            "Coletando dados de https://imoveis.mercadolivre.com.br/apartamentos/aluguel/sao-paulo/sao-paulo-zona-oeste/_Desde_97\n",
            "Coletando dados de https://imoveis.mercadolivre.com.br/apartamentos/aluguel/sao-paulo/sao-paulo-zona-oeste/_Desde_145\n",
            "Coletando dados de https://imoveis.mercadolivre.com.br/apartamentos/aluguel/sao-paulo/sao-paulo-zona-oeste/_Desde_193\n",
            "Coletando dados de https://imoveis.mercadolivre.com.br/apartamentos/aluguel/sao-paulo/sao-paulo-zona-oeste/_Desde_241\n"
          ],
          "name": "stdout"
        }
      ]
    },
    {
      "cell_type": "code",
      "metadata": {
        "id": "DeCmwZFC7ThN"
      },
      "source": [
        "df_ml = pd.concat(lista_dfs, axis=0)"
      ],
      "execution_count": null,
      "outputs": []
    },
    {
      "cell_type": "code",
      "metadata": {
        "id": "lMFU-fDM7x8G",
        "colab": {
          "base_uri": "https://localhost:8080/",
          "height": 203
        },
        "outputId": "c5c7699a-eacf-4df5-b356-81a174e69a70"
      },
      "source": [
        "df_ml.head()"
      ],
      "execution_count": null,
      "outputs": [
        {
          "output_type": "execute_result",
          "data": {
            "text/html": [
              "<div>\n",
              "<style scoped>\n",
              "    .dataframe tbody tr th:only-of-type {\n",
              "        vertical-align: middle;\n",
              "    }\n",
              "\n",
              "    .dataframe tbody tr th {\n",
              "        vertical-align: top;\n",
              "    }\n",
              "\n",
              "    .dataframe thead th {\n",
              "        text-align: right;\n",
              "    }\n",
              "</style>\n",
              "<table border=\"1\" class=\"dataframe\">\n",
              "  <thead>\n",
              "    <tr style=\"text-align: right;\">\n",
              "      <th></th>\n",
              "      <th>aluguel</th>\n",
              "      <th>area_quarto</th>\n",
              "      <th>zona</th>\n",
              "    </tr>\n",
              "  </thead>\n",
              "  <tbody>\n",
              "    <tr>\n",
              "      <th>0</th>\n",
              "      <td>690</td>\n",
              "      <td>25 m² construídos1 quarto</td>\n",
              "      <td>sul</td>\n",
              "    </tr>\n",
              "    <tr>\n",
              "      <th>1</th>\n",
              "      <td>550</td>\n",
              "      <td>40 m² construídos1 quarto</td>\n",
              "      <td>sul</td>\n",
              "    </tr>\n",
              "    <tr>\n",
              "      <th>2</th>\n",
              "      <td>1.200</td>\n",
              "      <td>44 m² construídos1 quarto</td>\n",
              "      <td>sul</td>\n",
              "    </tr>\n",
              "    <tr>\n",
              "      <th>3</th>\n",
              "      <td>1.750</td>\n",
              "      <td>96 m² construídos2 quartos</td>\n",
              "      <td>sul</td>\n",
              "    </tr>\n",
              "    <tr>\n",
              "      <th>4</th>\n",
              "      <td>1.350</td>\n",
              "      <td>45 m² construídos2 quartos</td>\n",
              "      <td>sul</td>\n",
              "    </tr>\n",
              "  </tbody>\n",
              "</table>\n",
              "</div>"
            ],
            "text/plain": [
              "  aluguel                 area_quarto zona\n",
              "0     690   25 m² construídos1 quarto  sul\n",
              "1     550   40 m² construídos1 quarto  sul\n",
              "2   1.200   44 m² construídos1 quarto  sul\n",
              "3   1.750  96 m² construídos2 quartos  sul\n",
              "4   1.350  45 m² construídos2 quartos  sul"
            ]
          },
          "metadata": {
            "tags": []
          },
          "execution_count": 7
        }
      ]
    },
    {
      "cell_type": "code",
      "metadata": {
        "id": "1_Nr4xh9CcGU",
        "colab": {
          "base_uri": "https://localhost:8080/"
        },
        "outputId": "7a5943fe-d970-41e2-c433-783c0a9c546e"
      },
      "source": [
        "df_ml.shape "
      ],
      "execution_count": null,
      "outputs": [
        {
          "output_type": "execute_result",
          "data": {
            "text/plain": [
              "(1152, 3)"
            ]
          },
          "metadata": {
            "tags": []
          },
          "execution_count": 8
        }
      ]
    },
    {
      "cell_type": "code",
      "metadata": {
        "id": "XxJjk8naAe8Y",
        "collapsed": true,
        "colab": {
          "base_uri": "https://localhost:8080/"
        },
        "outputId": "173544a4-8151-49b2-f5ee-8023e13f1531"
      },
      "source": [
        "type(df_ml['aluguel'])"
      ],
      "execution_count": null,
      "outputs": [
        {
          "output_type": "execute_result",
          "data": {
            "text/plain": [
              "pandas.core.series.Series"
            ]
          },
          "metadata": {
            "tags": []
          },
          "execution_count": 9
        }
      ]
    },
    {
      "cell_type": "code",
      "metadata": {
        "id": "AUK111jVAhne",
        "colab": {
          "base_uri": "https://localhost:8080/"
        },
        "outputId": "fc275095-b3f7-4378-84e0-c88eb0e50b5a"
      },
      "source": [
        "type(df_ml['aluguel'].values)"
      ],
      "execution_count": null,
      "outputs": [
        {
          "output_type": "execute_result",
          "data": {
            "text/plain": [
              "numpy.ndarray"
            ]
          },
          "metadata": {
            "tags": []
          },
          "execution_count": 10
        }
      ]
    },
    {
      "cell_type": "code",
      "metadata": {
        "id": "7mmyeYM1A8in",
        "colab": {
          "base_uri": "https://localhost:8080/"
        },
        "outputId": "dd801bd6-7ec5-4090-bd10-a0d6f8f13bdf"
      },
      "source": [
        "type(df_ml['aluguel'].values[0])"
      ],
      "execution_count": null,
      "outputs": [
        {
          "output_type": "execute_result",
          "data": {
            "text/plain": [
              "str"
            ]
          },
          "metadata": {
            "tags": []
          },
          "execution_count": 11
        }
      ]
    },
    {
      "cell_type": "code",
      "metadata": {
        "id": "B2z-IcstBOM_"
      },
      "source": [
        "df_ml.to_csv('dados_mercado_livre.csv', index=False)"
      ],
      "execution_count": null,
      "outputs": []
    },
    {
      "cell_type": "code",
      "metadata": {
        "id": "e0ig_7qcCpEO",
        "colab": {
          "base_uri": "https://localhost:8080/",
          "height": 417
        },
        "outputId": "1070bdc1-ac99-4590-9235-97547fdfac7d"
      },
      "source": [
        "pd.read_csv('dados_mercado_livre.csv', thousands='.')"
      ],
      "execution_count": null,
      "outputs": [
        {
          "output_type": "execute_result",
          "data": {
            "text/html": [
              "<div>\n",
              "<style scoped>\n",
              "    .dataframe tbody tr th:only-of-type {\n",
              "        vertical-align: middle;\n",
              "    }\n",
              "\n",
              "    .dataframe tbody tr th {\n",
              "        vertical-align: top;\n",
              "    }\n",
              "\n",
              "    .dataframe thead th {\n",
              "        text-align: right;\n",
              "    }\n",
              "</style>\n",
              "<table border=\"1\" class=\"dataframe\">\n",
              "  <thead>\n",
              "    <tr style=\"text-align: right;\">\n",
              "      <th></th>\n",
              "      <th>aluguel</th>\n",
              "      <th>area_quarto</th>\n",
              "      <th>zona</th>\n",
              "    </tr>\n",
              "  </thead>\n",
              "  <tbody>\n",
              "    <tr>\n",
              "      <th>0</th>\n",
              "      <td>690</td>\n",
              "      <td>25 m² construídos1 quarto</td>\n",
              "      <td>sul</td>\n",
              "    </tr>\n",
              "    <tr>\n",
              "      <th>1</th>\n",
              "      <td>550</td>\n",
              "      <td>40 m² construídos1 quarto</td>\n",
              "      <td>sul</td>\n",
              "    </tr>\n",
              "    <tr>\n",
              "      <th>2</th>\n",
              "      <td>1200</td>\n",
              "      <td>44 m² construídos1 quarto</td>\n",
              "      <td>sul</td>\n",
              "    </tr>\n",
              "    <tr>\n",
              "      <th>3</th>\n",
              "      <td>1750</td>\n",
              "      <td>96 m² construídos2 quartos</td>\n",
              "      <td>sul</td>\n",
              "    </tr>\n",
              "    <tr>\n",
              "      <th>4</th>\n",
              "      <td>1350</td>\n",
              "      <td>45 m² construídos2 quartos</td>\n",
              "      <td>sul</td>\n",
              "    </tr>\n",
              "    <tr>\n",
              "      <th>...</th>\n",
              "      <td>...</td>\n",
              "      <td>...</td>\n",
              "      <td>...</td>\n",
              "    </tr>\n",
              "    <tr>\n",
              "      <th>1147</th>\n",
              "      <td>4152</td>\n",
              "      <td>35 m² construídos1 quarto</td>\n",
              "      <td>oeste</td>\n",
              "    </tr>\n",
              "    <tr>\n",
              "      <th>1148</th>\n",
              "      <td>3600</td>\n",
              "      <td>82 m² construídos2 quartos</td>\n",
              "      <td>oeste</td>\n",
              "    </tr>\n",
              "    <tr>\n",
              "      <th>1149</th>\n",
              "      <td>5263</td>\n",
              "      <td>35 m² construídos1 quarto</td>\n",
              "      <td>oeste</td>\n",
              "    </tr>\n",
              "    <tr>\n",
              "      <th>1150</th>\n",
              "      <td>2600</td>\n",
              "      <td>87 m² construídos3 quartos</td>\n",
              "      <td>oeste</td>\n",
              "    </tr>\n",
              "    <tr>\n",
              "      <th>1151</th>\n",
              "      <td>5283</td>\n",
              "      <td>35 m² construídos1 quarto</td>\n",
              "      <td>oeste</td>\n",
              "    </tr>\n",
              "  </tbody>\n",
              "</table>\n",
              "<p>1152 rows × 3 columns</p>\n",
              "</div>"
            ],
            "text/plain": [
              "      aluguel                 area_quarto   zona\n",
              "0         690   25 m² construídos1 quarto    sul\n",
              "1         550   40 m² construídos1 quarto    sul\n",
              "2        1200   44 m² construídos1 quarto    sul\n",
              "3        1750  96 m² construídos2 quartos    sul\n",
              "4        1350  45 m² construídos2 quartos    sul\n",
              "...       ...                         ...    ...\n",
              "1147     4152   35 m² construídos1 quarto  oeste\n",
              "1148     3600  82 m² construídos2 quartos  oeste\n",
              "1149     5263   35 m² construídos1 quarto  oeste\n",
              "1150     2600  87 m² construídos3 quartos  oeste\n",
              "1151     5283   35 m² construídos1 quarto  oeste\n",
              "\n",
              "[1152 rows x 3 columns]"
            ]
          },
          "metadata": {
            "tags": []
          },
          "execution_count": 13
        }
      ]
    },
    {
      "cell_type": "markdown",
      "metadata": {
        "id": "3JAftP_Xgh7t"
      },
      "source": [
        "# Manipulaçao de dados"
      ]
    },
    {
      "cell_type": "code",
      "metadata": {
        "id": "8NjlDN_fC2MA"
      },
      "source": [
        "import pandas as pd\n",
        "import numpy as np"
      ],
      "execution_count": 91,
      "outputs": []
    },
    {
      "cell_type": "code",
      "metadata": {
        "id": "9VJYP0W4gxUd"
      },
      "source": [
        "url = 'https://raw.githubusercontent.com/cassiasamp/calculadora-de-imoveis-mar-21/main/coleta_de_dados/dados_mercado_livre.csv'\n",
        "df_ml = pd.read_csv(url, thousands='.')"
      ],
      "execution_count": 42,
      "outputs": []
    },
    {
      "cell_type": "code",
      "metadata": {
        "colab": {
          "base_uri": "https://localhost:8080/",
          "height": 204
        },
        "id": "hv69MjHgg3zn",
        "outputId": "001891cb-5951-49bc-ed2b-d25ff154a9e0"
      },
      "source": [
        "df_ml.head()"
      ],
      "execution_count": 43,
      "outputs": [
        {
          "output_type": "execute_result",
          "data": {
            "text/html": [
              "<div>\n",
              "<style scoped>\n",
              "    .dataframe tbody tr th:only-of-type {\n",
              "        vertical-align: middle;\n",
              "    }\n",
              "\n",
              "    .dataframe tbody tr th {\n",
              "        vertical-align: top;\n",
              "    }\n",
              "\n",
              "    .dataframe thead th {\n",
              "        text-align: right;\n",
              "    }\n",
              "</style>\n",
              "<table border=\"1\" class=\"dataframe\">\n",
              "  <thead>\n",
              "    <tr style=\"text-align: right;\">\n",
              "      <th></th>\n",
              "      <th>aluguel</th>\n",
              "      <th>area_quarto</th>\n",
              "      <th>zona</th>\n",
              "    </tr>\n",
              "  </thead>\n",
              "  <tbody>\n",
              "    <tr>\n",
              "      <th>0</th>\n",
              "      <td>1000</td>\n",
              "      <td>48 m² construídos2 quartos</td>\n",
              "      <td>sul</td>\n",
              "    </tr>\n",
              "    <tr>\n",
              "      <th>1</th>\n",
              "      <td>1200</td>\n",
              "      <td>67 m² construídos3 quartos</td>\n",
              "      <td>sul</td>\n",
              "    </tr>\n",
              "    <tr>\n",
              "      <th>2</th>\n",
              "      <td>1300</td>\n",
              "      <td>65 m² construídos2 quartos</td>\n",
              "      <td>sul</td>\n",
              "    </tr>\n",
              "    <tr>\n",
              "      <th>3</th>\n",
              "      <td>1280</td>\n",
              "      <td>65 m² construídos2 quartos</td>\n",
              "      <td>sul</td>\n",
              "    </tr>\n",
              "    <tr>\n",
              "      <th>4</th>\n",
              "      <td>1100</td>\n",
              "      <td>50 m² construídos2 quartos</td>\n",
              "      <td>sul</td>\n",
              "    </tr>\n",
              "  </tbody>\n",
              "</table>\n",
              "</div>"
            ],
            "text/plain": [
              "   aluguel                 area_quarto zona\n",
              "0     1000  48 m² construídos2 quartos  sul\n",
              "1     1200  67 m² construídos3 quartos  sul\n",
              "2     1300  65 m² construídos2 quartos  sul\n",
              "3     1280  65 m² construídos2 quartos  sul\n",
              "4     1100  50 m² construídos2 quartos  sul"
            ]
          },
          "metadata": {
            "tags": []
          },
          "execution_count": 43
        }
      ]
    },
    {
      "cell_type": "code",
      "metadata": {
        "colab": {
          "base_uri": "https://localhost:8080/"
        },
        "id": "cwVSmEVFhCNn",
        "outputId": "341f861b-ffc7-4bd0-d099-0ad56e969665"
      },
      "source": [
        "df_ml.info()"
      ],
      "execution_count": 44,
      "outputs": [
        {
          "output_type": "stream",
          "text": [
            "<class 'pandas.core.frame.DataFrame'>\n",
            "RangeIndex: 1152 entries, 0 to 1151\n",
            "Data columns (total 3 columns):\n",
            " #   Column       Non-Null Count  Dtype \n",
            "---  ------       --------------  ----- \n",
            " 0   aluguel      1152 non-null   int64 \n",
            " 1   area_quarto  1152 non-null   object\n",
            " 2   zona         1152 non-null   object\n",
            "dtypes: int64(1), object(2)\n",
            "memory usage: 27.1+ KB\n"
          ],
          "name": "stdout"
        }
      ]
    },
    {
      "cell_type": "code",
      "metadata": {
        "colab": {
          "base_uri": "https://localhost:8080/",
          "height": 80
        },
        "id": "eHUYnTX0hKcW",
        "outputId": "4dce2660-f7e1-4ae7-984b-15a63ad15a1a"
      },
      "source": [
        "df_ml.describe().T"
      ],
      "execution_count": 5,
      "outputs": [
        {
          "output_type": "execute_result",
          "data": {
            "text/html": [
              "<div>\n",
              "<style scoped>\n",
              "    .dataframe tbody tr th:only-of-type {\n",
              "        vertical-align: middle;\n",
              "    }\n",
              "\n",
              "    .dataframe tbody tr th {\n",
              "        vertical-align: top;\n",
              "    }\n",
              "\n",
              "    .dataframe thead th {\n",
              "        text-align: right;\n",
              "    }\n",
              "</style>\n",
              "<table border=\"1\" class=\"dataframe\">\n",
              "  <thead>\n",
              "    <tr style=\"text-align: right;\">\n",
              "      <th></th>\n",
              "      <th>count</th>\n",
              "      <th>mean</th>\n",
              "      <th>std</th>\n",
              "      <th>min</th>\n",
              "      <th>25%</th>\n",
              "      <th>50%</th>\n",
              "      <th>75%</th>\n",
              "      <th>max</th>\n",
              "    </tr>\n",
              "  </thead>\n",
              "  <tbody>\n",
              "    <tr>\n",
              "      <th>aluguel</th>\n",
              "      <td>1152.0</td>\n",
              "      <td>2497.282986</td>\n",
              "      <td>1743.603188</td>\n",
              "      <td>500.0</td>\n",
              "      <td>1471.0</td>\n",
              "      <td>2000.0</td>\n",
              "      <td>2900.0</td>\n",
              "      <td>15000.0</td>\n",
              "    </tr>\n",
              "  </tbody>\n",
              "</table>\n",
              "</div>"
            ],
            "text/plain": [
              "          count         mean          std  ...     50%     75%      max\n",
              "aluguel  1152.0  2497.282986  1743.603188  ...  2000.0  2900.0  15000.0\n",
              "\n",
              "[1 rows x 8 columns]"
            ]
          },
          "metadata": {
            "tags": []
          },
          "execution_count": 5
        }
      ]
    },
    {
      "cell_type": "code",
      "metadata": {
        "colab": {
          "base_uri": "https://localhost:8080/"
        },
        "id": "Sm6cgbxUhfM0",
        "outputId": "7f6b330f-0ffc-4b95-aff3-5e36ba1bf1fc"
      },
      "source": [
        "df_ml.isna().sum()"
      ],
      "execution_count": 6,
      "outputs": [
        {
          "output_type": "execute_result",
          "data": {
            "text/plain": [
              "aluguel        0\n",
              "area_quarto    0\n",
              "zona           0\n",
              "dtype: int64"
            ]
          },
          "metadata": {
            "tags": []
          },
          "execution_count": 6
        }
      ]
    },
    {
      "cell_type": "code",
      "metadata": {
        "colab": {
          "base_uri": "https://localhost:8080/"
        },
        "id": "g1iJldZWbIkG",
        "outputId": "55f5242b-4cce-4646-d3e4-e2480522e9ef"
      },
      "source": [
        "df_ml.isnull().sum()"
      ],
      "execution_count": 46,
      "outputs": [
        {
          "output_type": "execute_result",
          "data": {
            "text/plain": [
              "aluguel        0\n",
              "area_quarto    0\n",
              "zona           0\n",
              "dtype: int64"
            ]
          },
          "metadata": {
            "tags": []
          },
          "execution_count": 46
        }
      ]
    },
    {
      "cell_type": "code",
      "metadata": {
        "id": "hEAYaD9RoM_y"
      },
      "source": [
        "df_ml['aluguel'] = df_ml['aluguel'].astype(float)"
      ],
      "execution_count": 50,
      "outputs": []
    },
    {
      "cell_type": "code",
      "metadata": {
        "colab": {
          "base_uri": "https://localhost:8080/"
        },
        "id": "Af0JLN1VoXgq",
        "outputId": "cd2023a2-a2b9-4c85-ecb9-178eb9037332"
      },
      "source": [
        "df_ml.info()"
      ],
      "execution_count": 52,
      "outputs": [
        {
          "output_type": "stream",
          "text": [
            "<class 'pandas.core.frame.DataFrame'>\n",
            "RangeIndex: 1152 entries, 0 to 1151\n",
            "Data columns (total 3 columns):\n",
            " #   Column       Non-Null Count  Dtype  \n",
            "---  ------       --------------  -----  \n",
            " 0   aluguel      1152 non-null   float64\n",
            " 1   area_quarto  1152 non-null   object \n",
            " 2   zona         1152 non-null   object \n",
            "dtypes: float64(1), object(2)\n",
            "memory usage: 27.1+ KB\n"
          ],
          "name": "stdout"
        }
      ]
    },
    {
      "cell_type": "code",
      "metadata": {
        "id": "DOhBcYiuo32H"
      },
      "source": [
        "linha0 = df_ml['area_quarto'][0]"
      ],
      "execution_count": 55,
      "outputs": []
    },
    {
      "cell_type": "code",
      "metadata": {
        "colab": {
          "base_uri": "https://localhost:8080/",
          "height": 35
        },
        "id": "RvYLz_dVo_Uf",
        "outputId": "212397e8-e36c-4a23-fe9b-9adfbf080a6f"
      },
      "source": [
        "linha0.split(sep=' m²')[0]"
      ],
      "execution_count": 62,
      "outputs": [
        {
          "output_type": "execute_result",
          "data": {
            "application/vnd.google.colaboratory.intrinsic+json": {
              "type": "string"
            },
            "text/plain": [
              "'48'"
            ]
          },
          "metadata": {
            "tags": []
          },
          "execution_count": 62
        }
      ]
    },
    {
      "cell_type": "code",
      "metadata": {
        "id": "kLJaTOmArYCm"
      },
      "source": [
        "linha_inventada = ' 2 quartos'"
      ],
      "execution_count": 75,
      "outputs": []
    },
    {
      "cell_type": "code",
      "metadata": {
        "colab": {
          "base_uri": "https://localhost:8080/"
        },
        "id": "UTmbJN2rpfgI",
        "outputId": "fa29e6e3-5b5d-4e06-e183-19bc1211874c"
      },
      "source": [
        "if 'm²' in linha0:\n",
        "  print(linha0.split(sep=' m²')[0])\n",
        "else:\n",
        "  print(np.nan)"
      ],
      "execution_count": 74,
      "outputs": [
        {
          "output_type": "stream",
          "text": [
            "48\n"
          ],
          "name": "stdout"
        }
      ]
    },
    {
      "cell_type": "code",
      "metadata": {
        "colab": {
          "base_uri": "https://localhost:8080/"
        },
        "id": "VWbkKNAsrQFC",
        "outputId": "0d0d48a3-3fd6-4609-c371-8e946a96fd2c"
      },
      "source": [
        "if 'm²' in linha_inventada:\n",
        "  print(linha_inventada.split(sep=' m²')[0])\n",
        "else:\n",
        "  print(np.nan)"
      ],
      "execution_count": 76,
      "outputs": [
        {
          "output_type": "stream",
          "text": [
            "nan\n"
          ],
          "name": "stdout"
        }
      ]
    },
    {
      "cell_type": "code",
      "metadata": {
        "id": "752Ce-RArrR5"
      },
      "source": [
        "# type(np.nan)"
      ],
      "execution_count": 72,
      "outputs": []
    },
    {
      "cell_type": "code",
      "metadata": {
        "id": "a9nNSmnYsf2q"
      },
      "source": [
        "def extrair_area(entrada):\n",
        "  if 'm²' in entrada:\n",
        "    area = entrada.split(sep=' m²')[0]\n",
        "  else:\n",
        "    area = np.nan\n",
        "  return area"
      ],
      "execution_count": 77,
      "outputs": []
    },
    {
      "cell_type": "code",
      "metadata": {
        "id": "p-OBB9vrtXMV"
      },
      "source": [
        "# df_ml()"
      ],
      "execution_count": 85,
      "outputs": []
    },
    {
      "cell_type": "code",
      "metadata": {
        "id": "s1zW4vpLtEmn"
      },
      "source": [
        "df_ml['area'] = df_ml['area_quarto'].apply(extrair_area).astype(float)"
      ],
      "execution_count": 89,
      "outputs": []
    },
    {
      "cell_type": "code",
      "metadata": {
        "colab": {
          "base_uri": "https://localhost:8080/"
        },
        "id": "i_O7TSqhuJTZ",
        "outputId": "d3212241-ce7a-42af-c8d8-2b223a5bd447"
      },
      "source": [
        "df_ml.info()"
      ],
      "execution_count": 90,
      "outputs": [
        {
          "output_type": "stream",
          "text": [
            "<class 'pandas.core.frame.DataFrame'>\n",
            "RangeIndex: 1152 entries, 0 to 1151\n",
            "Data columns (total 4 columns):\n",
            " #   Column       Non-Null Count  Dtype  \n",
            "---  ------       --------------  -----  \n",
            " 0   aluguel      1152 non-null   float64\n",
            " 1   area_quarto  1152 non-null   object \n",
            " 2   zona         1152 non-null   object \n",
            " 3   area         1152 non-null   float64\n",
            "dtypes: float64(2), object(2)\n",
            "memory usage: 36.1+ KB\n"
          ],
          "name": "stdout"
        }
      ]
    },
    {
      "cell_type": "code",
      "metadata": {
        "colab": {
          "base_uri": "https://localhost:8080/",
          "height": 35
        },
        "id": "YLBbPDqCvPCC",
        "outputId": "3d3b146d-a237-4394-99fd-5b8043b46b63"
      },
      "source": [
        "linha0"
      ],
      "execution_count": 93,
      "outputs": [
        {
          "output_type": "execute_result",
          "data": {
            "application/vnd.google.colaboratory.intrinsic+json": {
              "type": "string"
            },
            "text/plain": [
              "'48 m² construídos2 quartos'"
            ]
          },
          "metadata": {
            "tags": []
          },
          "execution_count": 93
        }
      ]
    },
    {
      "cell_type": "code",
      "metadata": {
        "id": "SzqaX5_1v0Iu"
      },
      "source": [
        "padrao = '(\\d+)' # é uma expressão regular, um padrão - regex"
      ],
      "execution_count": 111,
      "outputs": []
    },
    {
      "cell_type": "code",
      "metadata": {
        "id": "XZsL1s2QwEui"
      },
      "source": [
        "import re"
      ],
      "execution_count": 99,
      "outputs": []
    },
    {
      "cell_type": "code",
      "metadata": {
        "colab": {
          "base_uri": "https://localhost:8080/",
          "height": 35
        },
        "id": "RHHS_GjZwHCJ",
        "outputId": "d19145a9-111f-47b4-851a-571afc1aa949"
      },
      "source": [
        "re.findall(padrao, linha0)[1]"
      ],
      "execution_count": 113,
      "outputs": [
        {
          "output_type": "execute_result",
          "data": {
            "application/vnd.google.colaboratory.intrinsic+json": {
              "type": "string"
            },
            "text/plain": [
              "'2'"
            ]
          },
          "metadata": {
            "tags": []
          },
          "execution_count": 113
        }
      ]
    },
    {
      "cell_type": "code",
      "metadata": {
        "id": "GL3EI_sBr5Cz"
      },
      "source": [
        "def extrair_quarto(entrada):\n",
        "  padrao = '(\\d+)' \n",
        "\n",
        "  if 'quarto' in entrada:\n",
        "    quarto = re.findall(padrao, entrada)[1]\n",
        "  else:\n",
        "    quarto = np.nan\n",
        "  return quarto"
      ],
      "execution_count": 114,
      "outputs": []
    },
    {
      "cell_type": "code",
      "metadata": {
        "id": "3XyuwaLzrnek"
      },
      "source": [
        "df_ml['quarto'] = df_ml['area_quarto'].apply(extrair_quarto).astype(float)"
      ],
      "execution_count": 119,
      "outputs": []
    },
    {
      "cell_type": "code",
      "metadata": {
        "colab": {
          "base_uri": "https://localhost:8080/"
        },
        "id": "C2VBhe-2xtbS",
        "outputId": "e7e35ea4-94b5-4e2a-f935-ec12562c3a51"
      },
      "source": [
        "df_ml.info()"
      ],
      "execution_count": 120,
      "outputs": [
        {
          "output_type": "stream",
          "text": [
            "<class 'pandas.core.frame.DataFrame'>\n",
            "RangeIndex: 1152 entries, 0 to 1151\n",
            "Data columns (total 5 columns):\n",
            " #   Column       Non-Null Count  Dtype  \n",
            "---  ------       --------------  -----  \n",
            " 0   aluguel      1152 non-null   float64\n",
            " 1   area_quarto  1152 non-null   object \n",
            " 2   zona         1152 non-null   object \n",
            " 3   area         1152 non-null   float64\n",
            " 4   quarto       1152 non-null   float64\n",
            "dtypes: float64(3), object(2)\n",
            "memory usage: 45.1+ KB\n"
          ],
          "name": "stdout"
        }
      ]
    },
    {
      "cell_type": "code",
      "metadata": {
        "id": "Ql3lQpjAxy99"
      },
      "source": [
        "df_ml = df_ml.drop('area_quarto', axis=1)"
      ],
      "execution_count": 123,
      "outputs": []
    },
    {
      "cell_type": "code",
      "metadata": {
        "colab": {
          "base_uri": "https://localhost:8080/",
          "height": 204
        },
        "id": "ahEnRx_JyGIQ",
        "outputId": "663a6214-5809-4be9-c788-bb703b160864"
      },
      "source": [
        "df_ml.head()"
      ],
      "execution_count": 124,
      "outputs": [
        {
          "output_type": "execute_result",
          "data": {
            "text/html": [
              "<div>\n",
              "<style scoped>\n",
              "    .dataframe tbody tr th:only-of-type {\n",
              "        vertical-align: middle;\n",
              "    }\n",
              "\n",
              "    .dataframe tbody tr th {\n",
              "        vertical-align: top;\n",
              "    }\n",
              "\n",
              "    .dataframe thead th {\n",
              "        text-align: right;\n",
              "    }\n",
              "</style>\n",
              "<table border=\"1\" class=\"dataframe\">\n",
              "  <thead>\n",
              "    <tr style=\"text-align: right;\">\n",
              "      <th></th>\n",
              "      <th>aluguel</th>\n",
              "      <th>zona</th>\n",
              "      <th>area</th>\n",
              "      <th>quarto</th>\n",
              "    </tr>\n",
              "  </thead>\n",
              "  <tbody>\n",
              "    <tr>\n",
              "      <th>0</th>\n",
              "      <td>1000.0</td>\n",
              "      <td>sul</td>\n",
              "      <td>48.0</td>\n",
              "      <td>2.0</td>\n",
              "    </tr>\n",
              "    <tr>\n",
              "      <th>1</th>\n",
              "      <td>1200.0</td>\n",
              "      <td>sul</td>\n",
              "      <td>67.0</td>\n",
              "      <td>3.0</td>\n",
              "    </tr>\n",
              "    <tr>\n",
              "      <th>2</th>\n",
              "      <td>1300.0</td>\n",
              "      <td>sul</td>\n",
              "      <td>65.0</td>\n",
              "      <td>2.0</td>\n",
              "    </tr>\n",
              "    <tr>\n",
              "      <th>3</th>\n",
              "      <td>1280.0</td>\n",
              "      <td>sul</td>\n",
              "      <td>65.0</td>\n",
              "      <td>2.0</td>\n",
              "    </tr>\n",
              "    <tr>\n",
              "      <th>4</th>\n",
              "      <td>1100.0</td>\n",
              "      <td>sul</td>\n",
              "      <td>50.0</td>\n",
              "      <td>2.0</td>\n",
              "    </tr>\n",
              "  </tbody>\n",
              "</table>\n",
              "</div>"
            ],
            "text/plain": [
              "   aluguel zona  area  quarto\n",
              "0   1000.0  sul  48.0     2.0\n",
              "1   1200.0  sul  67.0     3.0\n",
              "2   1300.0  sul  65.0     2.0\n",
              "3   1280.0  sul  65.0     2.0\n",
              "4   1100.0  sul  50.0     2.0"
            ]
          },
          "metadata": {
            "tags": []
          },
          "execution_count": 124
        }
      ]
    },
    {
      "cell_type": "code",
      "metadata": {
        "id": "k0iZnWtzyWQ4"
      },
      "source": [
        "df_ml.to_csv('dados_tratados_ml.csv', index=False)"
      ],
      "execution_count": 125,
      "outputs": []
    },
    {
      "cell_type": "code",
      "metadata": {
        "colab": {
          "base_uri": "https://localhost:8080/",
          "height": 419
        },
        "id": "yqTJuxdTywVX",
        "outputId": "10857402-e4b4-4eed-f08e-91378efd3ebb"
      },
      "source": [
        "pd.read_csv('dados_tratados_ml.csv')"
      ],
      "execution_count": 126,
      "outputs": [
        {
          "output_type": "execute_result",
          "data": {
            "text/html": [
              "<div>\n",
              "<style scoped>\n",
              "    .dataframe tbody tr th:only-of-type {\n",
              "        vertical-align: middle;\n",
              "    }\n",
              "\n",
              "    .dataframe tbody tr th {\n",
              "        vertical-align: top;\n",
              "    }\n",
              "\n",
              "    .dataframe thead th {\n",
              "        text-align: right;\n",
              "    }\n",
              "</style>\n",
              "<table border=\"1\" class=\"dataframe\">\n",
              "  <thead>\n",
              "    <tr style=\"text-align: right;\">\n",
              "      <th></th>\n",
              "      <th>aluguel</th>\n",
              "      <th>zona</th>\n",
              "      <th>area</th>\n",
              "      <th>quarto</th>\n",
              "    </tr>\n",
              "  </thead>\n",
              "  <tbody>\n",
              "    <tr>\n",
              "      <th>0</th>\n",
              "      <td>1000.0</td>\n",
              "      <td>sul</td>\n",
              "      <td>48.0</td>\n",
              "      <td>2.0</td>\n",
              "    </tr>\n",
              "    <tr>\n",
              "      <th>1</th>\n",
              "      <td>1200.0</td>\n",
              "      <td>sul</td>\n",
              "      <td>67.0</td>\n",
              "      <td>3.0</td>\n",
              "    </tr>\n",
              "    <tr>\n",
              "      <th>2</th>\n",
              "      <td>1300.0</td>\n",
              "      <td>sul</td>\n",
              "      <td>65.0</td>\n",
              "      <td>2.0</td>\n",
              "    </tr>\n",
              "    <tr>\n",
              "      <th>3</th>\n",
              "      <td>1280.0</td>\n",
              "      <td>sul</td>\n",
              "      <td>65.0</td>\n",
              "      <td>2.0</td>\n",
              "    </tr>\n",
              "    <tr>\n",
              "      <th>4</th>\n",
              "      <td>1100.0</td>\n",
              "      <td>sul</td>\n",
              "      <td>50.0</td>\n",
              "      <td>2.0</td>\n",
              "    </tr>\n",
              "    <tr>\n",
              "      <th>...</th>\n",
              "      <td>...</td>\n",
              "      <td>...</td>\n",
              "      <td>...</td>\n",
              "      <td>...</td>\n",
              "    </tr>\n",
              "    <tr>\n",
              "      <th>1147</th>\n",
              "      <td>3000.0</td>\n",
              "      <td>oeste</td>\n",
              "      <td>47.0</td>\n",
              "      <td>1.0</td>\n",
              "    </tr>\n",
              "    <tr>\n",
              "      <th>1148</th>\n",
              "      <td>1700.0</td>\n",
              "      <td>oeste</td>\n",
              "      <td>199.0</td>\n",
              "      <td>4.0</td>\n",
              "    </tr>\n",
              "    <tr>\n",
              "      <th>1149</th>\n",
              "      <td>1800.0</td>\n",
              "      <td>oeste</td>\n",
              "      <td>85.0</td>\n",
              "      <td>1.0</td>\n",
              "    </tr>\n",
              "    <tr>\n",
              "      <th>1150</th>\n",
              "      <td>3400.0</td>\n",
              "      <td>oeste</td>\n",
              "      <td>97.0</td>\n",
              "      <td>3.0</td>\n",
              "    </tr>\n",
              "    <tr>\n",
              "      <th>1151</th>\n",
              "      <td>4200.0</td>\n",
              "      <td>oeste</td>\n",
              "      <td>115.0</td>\n",
              "      <td>3.0</td>\n",
              "    </tr>\n",
              "  </tbody>\n",
              "</table>\n",
              "<p>1152 rows × 4 columns</p>\n",
              "</div>"
            ],
            "text/plain": [
              "      aluguel   zona   area  quarto\n",
              "0      1000.0    sul   48.0     2.0\n",
              "1      1200.0    sul   67.0     3.0\n",
              "2      1300.0    sul   65.0     2.0\n",
              "3      1280.0    sul   65.0     2.0\n",
              "4      1100.0    sul   50.0     2.0\n",
              "...       ...    ...    ...     ...\n",
              "1147   3000.0  oeste   47.0     1.0\n",
              "1148   1700.0  oeste  199.0     4.0\n",
              "1149   1800.0  oeste   85.0     1.0\n",
              "1150   3400.0  oeste   97.0     3.0\n",
              "1151   4200.0  oeste  115.0     3.0\n",
              "\n",
              "[1152 rows x 4 columns]"
            ]
          },
          "metadata": {
            "tags": []
          },
          "execution_count": 126
        }
      ]
    },
    {
      "cell_type": "code",
      "metadata": {
        "id": "Dikj9S4Wy5on"
      },
      "source": [
        ""
      ],
      "execution_count": null,
      "outputs": []
    }
  ]
}