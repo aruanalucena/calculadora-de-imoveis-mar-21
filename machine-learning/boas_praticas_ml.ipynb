{
 "cells": [
  {
   "cell_type": "markdown",
   "metadata": {
    "id": "gFzQV1py16_j"
   },
   "source": [
    "## 3. Machine Learning"
   ]
  },
  {
   "cell_type": "markdown",
   "metadata": {
    "id": "7emCkyBA9CI2"
   },
   "source": [
    "### 3.1 Importar Dados, fazer preprocessamento e dividir entre treino e teste"
   ]
  },
  {
   "cell_type": "code",
   "execution_count": 1,
   "metadata": {
    "id": "bt3Yh07N9IJ_"
   },
   "outputs": [],
   "source": [
    "import pandas as pd\n",
    "dados = pd.read_csv('https://raw.githubusercontent.com/cassiasamp/calculadora-de-imoveis-mar-21/main/manipulacao-de-dados/dados_tratados_ml.csv')"
   ]
  },
  {
   "cell_type": "code",
   "execution_count": 2,
   "metadata": {
    "colab": {
     "base_uri": "https://localhost:8080/",
     "height": 198
    },
    "id": "0Rp2l8qZpW3i",
    "outputId": "f8bd0954-a761-4bd4-c959-6fb433f6d0da"
   },
   "outputs": [
    {
     "data": {
      "text/html": [
       "<div>\n",
       "<style scoped>\n",
       "    .dataframe tbody tr th:only-of-type {\n",
       "        vertical-align: middle;\n",
       "    }\n",
       "\n",
       "    .dataframe tbody tr th {\n",
       "        vertical-align: top;\n",
       "    }\n",
       "\n",
       "    .dataframe thead th {\n",
       "        text-align: right;\n",
       "    }\n",
       "</style>\n",
       "<table border=\"1\" class=\"dataframe\">\n",
       "  <thead>\n",
       "    <tr style=\"text-align: right;\">\n",
       "      <th></th>\n",
       "      <th>aluguel</th>\n",
       "      <th>zona</th>\n",
       "      <th>area</th>\n",
       "      <th>quarto</th>\n",
       "    </tr>\n",
       "  </thead>\n",
       "  <tbody>\n",
       "    <tr>\n",
       "      <th>0</th>\n",
       "      <td>1000.0</td>\n",
       "      <td>sul</td>\n",
       "      <td>48.0</td>\n",
       "      <td>2.0</td>\n",
       "    </tr>\n",
       "    <tr>\n",
       "      <th>1</th>\n",
       "      <td>1200.0</td>\n",
       "      <td>sul</td>\n",
       "      <td>67.0</td>\n",
       "      <td>3.0</td>\n",
       "    </tr>\n",
       "    <tr>\n",
       "      <th>2</th>\n",
       "      <td>1300.0</td>\n",
       "      <td>sul</td>\n",
       "      <td>65.0</td>\n",
       "      <td>2.0</td>\n",
       "    </tr>\n",
       "    <tr>\n",
       "      <th>3</th>\n",
       "      <td>1280.0</td>\n",
       "      <td>sul</td>\n",
       "      <td>65.0</td>\n",
       "      <td>2.0</td>\n",
       "    </tr>\n",
       "    <tr>\n",
       "      <th>4</th>\n",
       "      <td>1100.0</td>\n",
       "      <td>sul</td>\n",
       "      <td>50.0</td>\n",
       "      <td>2.0</td>\n",
       "    </tr>\n",
       "  </tbody>\n",
       "</table>\n",
       "</div>"
      ],
      "text/plain": [
       "   aluguel zona  area  quarto\n",
       "0   1000.0  sul  48.0     2.0\n",
       "1   1200.0  sul  67.0     3.0\n",
       "2   1300.0  sul  65.0     2.0\n",
       "3   1280.0  sul  65.0     2.0\n",
       "4   1100.0  sul  50.0     2.0"
      ]
     },
     "execution_count": 2,
     "metadata": {},
     "output_type": "execute_result"
    }
   ],
   "source": [
    "dados.head()"
   ]
  },
  {
   "cell_type": "code",
   "execution_count": 3,
   "metadata": {
    "colab": {
     "base_uri": "https://localhost:8080/"
    },
    "id": "g9haP4dApZlT",
    "outputId": "cc4247ae-e51c-49a8-9809-9ffc371cb293"
   },
   "outputs": [
    {
     "name": "stdout",
     "output_type": "stream",
     "text": [
      "<class 'pandas.core.frame.DataFrame'>\n",
      "RangeIndex: 1152 entries, 0 to 1151\n",
      "Data columns (total 4 columns):\n",
      " #   Column   Non-Null Count  Dtype  \n",
      "---  ------   --------------  -----  \n",
      " 0   aluguel  1152 non-null   float64\n",
      " 1   zona     1152 non-null   object \n",
      " 2   area     1152 non-null   float64\n",
      " 3   quarto   1152 non-null   float64\n",
      "dtypes: float64(3), object(1)\n",
      "memory usage: 36.1+ KB\n"
     ]
    }
   ],
   "source": [
    "dados.info()"
   ]
  },
  {
   "cell_type": "code",
   "execution_count": 4,
   "metadata": {
    "id": "PoN-aeTWpbpl"
   },
   "outputs": [],
   "source": [
    "X = dados.drop(columns=['aluguel'])"
   ]
  },
  {
   "cell_type": "code",
   "execution_count": 5,
   "metadata": {
    "colab": {
     "base_uri": "https://localhost:8080/"
    },
    "id": "rJ7ZQOlnpmz3",
    "outputId": "c5330859-6a50-41b8-f09d-db2b4d2f4b0d"
   },
   "outputs": [
    {
     "data": {
      "text/plain": [
       "zona      0\n",
       "area      0\n",
       "quarto    0\n",
       "dtype: int64"
      ]
     },
     "execution_count": 5,
     "metadata": {},
     "output_type": "execute_result"
    }
   ],
   "source": [
    "X.isna().sum()"
   ]
  },
  {
   "cell_type": "code",
   "execution_count": 6,
   "metadata": {
    "id": "siiOkbTFqea8"
   },
   "outputs": [],
   "source": [
    "X = pd.get_dummies(X)"
   ]
  },
  {
   "cell_type": "code",
   "execution_count": 7,
   "metadata": {
    "colab": {
     "base_uri": "https://localhost:8080/",
     "height": 198
    },
    "id": "Q8CaLtSKrIxc",
    "outputId": "63b7f858-7aca-42e9-eee6-64694f608ba7"
   },
   "outputs": [
    {
     "data": {
      "text/html": [
       "<div>\n",
       "<style scoped>\n",
       "    .dataframe tbody tr th:only-of-type {\n",
       "        vertical-align: middle;\n",
       "    }\n",
       "\n",
       "    .dataframe tbody tr th {\n",
       "        vertical-align: top;\n",
       "    }\n",
       "\n",
       "    .dataframe thead th {\n",
       "        text-align: right;\n",
       "    }\n",
       "</style>\n",
       "<table border=\"1\" class=\"dataframe\">\n",
       "  <thead>\n",
       "    <tr style=\"text-align: right;\">\n",
       "      <th></th>\n",
       "      <th>area</th>\n",
       "      <th>quarto</th>\n",
       "      <th>zona_leste</th>\n",
       "      <th>zona_norte</th>\n",
       "      <th>zona_oeste</th>\n",
       "      <th>zona_sul</th>\n",
       "    </tr>\n",
       "  </thead>\n",
       "  <tbody>\n",
       "    <tr>\n",
       "      <th>0</th>\n",
       "      <td>48.0</td>\n",
       "      <td>2.0</td>\n",
       "      <td>0</td>\n",
       "      <td>0</td>\n",
       "      <td>0</td>\n",
       "      <td>1</td>\n",
       "    </tr>\n",
       "    <tr>\n",
       "      <th>1</th>\n",
       "      <td>67.0</td>\n",
       "      <td>3.0</td>\n",
       "      <td>0</td>\n",
       "      <td>0</td>\n",
       "      <td>0</td>\n",
       "      <td>1</td>\n",
       "    </tr>\n",
       "    <tr>\n",
       "      <th>2</th>\n",
       "      <td>65.0</td>\n",
       "      <td>2.0</td>\n",
       "      <td>0</td>\n",
       "      <td>0</td>\n",
       "      <td>0</td>\n",
       "      <td>1</td>\n",
       "    </tr>\n",
       "    <tr>\n",
       "      <th>3</th>\n",
       "      <td>65.0</td>\n",
       "      <td>2.0</td>\n",
       "      <td>0</td>\n",
       "      <td>0</td>\n",
       "      <td>0</td>\n",
       "      <td>1</td>\n",
       "    </tr>\n",
       "    <tr>\n",
       "      <th>4</th>\n",
       "      <td>50.0</td>\n",
       "      <td>2.0</td>\n",
       "      <td>0</td>\n",
       "      <td>0</td>\n",
       "      <td>0</td>\n",
       "      <td>1</td>\n",
       "    </tr>\n",
       "  </tbody>\n",
       "</table>\n",
       "</div>"
      ],
      "text/plain": [
       "   area  quarto  zona_leste  zona_norte  zona_oeste  zona_sul\n",
       "0  48.0     2.0           0           0           0         1\n",
       "1  67.0     3.0           0           0           0         1\n",
       "2  65.0     2.0           0           0           0         1\n",
       "3  65.0     2.0           0           0           0         1\n",
       "4  50.0     2.0           0           0           0         1"
      ]
     },
     "execution_count": 7,
     "metadata": {},
     "output_type": "execute_result"
    }
   ],
   "source": [
    "X.head()"
   ]
  },
  {
   "cell_type": "code",
   "execution_count": 8,
   "metadata": {
    "id": "8q607O2Pp5vA"
   },
   "outputs": [],
   "source": [
    "y = dados['aluguel']"
   ]
  },
  {
   "cell_type": "code",
   "execution_count": 9,
   "metadata": {
    "colab": {
     "base_uri": "https://localhost:8080/"
    },
    "id": "vJiiJXbvp9Ep",
    "outputId": "a8e5a2e0-a6c4-4cf1-c8f9-7136c6fbfa04"
   },
   "outputs": [
    {
     "data": {
      "text/plain": [
       "0"
      ]
     },
     "execution_count": 9,
     "metadata": {},
     "output_type": "execute_result"
    }
   ],
   "source": [
    "y.isna().sum()"
   ]
  },
  {
   "cell_type": "code",
   "execution_count": 10,
   "metadata": {
    "id": "NM1-VsfJo4Cx"
   },
   "outputs": [],
   "source": [
    "from sklearn.model_selection import train_test_split\n",
    "\n",
    "SEED = 42\n",
    "X_train, X_test, y_train, y_test = train_test_split(X, y, \n",
    "                                                    random_state = SEED,\n",
    "                                                    test_size = 0.25)"
   ]
  },
  {
   "cell_type": "markdown",
   "metadata": {
    "id": "EhEkmbXmRD4F"
   },
   "source": [
    "### 3.2 Modelo \"Baseline\" (Ponto de Partida)"
   ]
  },
  {
   "cell_type": "code",
   "execution_count": 11,
   "metadata": {
    "colab": {
     "base_uri": "https://localhost:8080/"
    },
    "id": "pWm_9peL18_t",
    "outputId": "2647dcf6-fe85-41b0-e731-9ddae93b8fe6"
   },
   "outputs": [
    {
     "data": {
      "text/plain": [
       "0.267445717553804"
      ]
     },
     "execution_count": 11,
     "metadata": {},
     "output_type": "execute_result"
    }
   ],
   "source": [
    "from sklearn.linear_model import LinearRegression\n",
    "lr = LinearRegression()\n",
    "lr.fit(X_train, y_train)\n",
    "lr.score(X_test, y_test)"
   ]
  },
  {
   "cell_type": "code",
   "execution_count": 12,
   "metadata": {
    "colab": {
     "base_uri": "https://localhost:8080/"
    },
    "id": "IDt3P5NYSTBb",
    "outputId": "70c14974-35c9-4218-ee78-0cb6ecc42c7d"
   },
   "outputs": [
    {
     "data": {
      "text/plain": [
       "-0.012722806117509977"
      ]
     },
     "execution_count": 12,
     "metadata": {},
     "output_type": "execute_result"
    }
   ],
   "source": [
    "from sklearn.dummy import DummyRegressor\n",
    "reg = DummyRegressor(strategy='mean')\n",
    "reg.fit(X_train, y_train)\n",
    "reg.score(X_test, y_test)"
   ]
  },
  {
   "cell_type": "markdown",
   "metadata": {
    "id": "QsHKsNbaSDPM"
   },
   "source": [
    "### 3.3 Fazer triagem entre diferentes estimadores"
   ]
  },
  {
   "cell_type": "code",
   "execution_count": 17,
   "metadata": {
    "id": "uDpvo7Fs193_"
   },
   "outputs": [],
   "source": [
    "from sklearn.linear_model import RidgeCV, Lasso, ElasticNet, LassoLars, HuberRegressor\n",
    "from sklearn.svm import SVR\n",
    "from sklearn.neighbors import KNeighborsRegressor\n",
    "from sklearn.ensemble import GradientBoostingRegressor, AdaBoostRegressor\n",
    "from sklearn.neural_network import MLPRegressor\n",
    "from sklearn.ensemble import RandomForestRegressor\n",
    "from lightgbm import LGBMRegressor\n",
    "from xgboost import XGBRegressor"
   ]
  },
  {
   "cell_type": "code",
   "execution_count": 18,
   "metadata": {
    "id": "zE6jqA7019w8"
   },
   "outputs": [],
   "source": [
    "reg_list = [RidgeCV(),\n",
    "            LGBMRegressor(), \n",
    "            XGBRegressor(objective='reg:squarederror'),\n",
    "            SVR(),\n",
    "            KNeighborsRegressor(),\n",
    "            RandomForestRegressor(),\n",
    "            AdaBoostRegressor(),\n",
    "            GradientBoostingRegressor(),\n",
    "            MLPRegressor()\n",
    "            ]"
   ]
  },
  {
   "cell_type": "code",
   "execution_count": 19,
   "metadata": {
    "colab": {
     "base_uri": "https://localhost:8080/"
    },
    "id": "_s-gvXW1Tc8a",
    "outputId": "c0ae94f4-e375-4fac-b148-bfc394546c0d"
   },
   "outputs": [
    {
     "name": "stdout",
     "output_type": "stream",
     "text": [
      "Treinando Modelo RidgeCV\n",
      "R2 Score Train: 0.4581210448683818\n",
      "R2 Score Valid: 0.42 +- 0.08\n",
      "R2 Score Test: 0.2695055663797735\n",
      "================================================================================\n",
      "Treinando Modelo LGBMRegressor\n",
      "R2 Score Train: 0.5934991352177392\n",
      "R2 Score Valid: 0.38 +- 0.07\n",
      "R2 Score Test: 0.4024894770956645\n",
      "================================================================================\n",
      "Treinando Modelo XGBRegressor\n",
      "R2 Score Train: 0.8285811106579803\n",
      "R2 Score Valid: 0.12 +- 0.19\n",
      "R2 Score Test: 0.33734910110716687\n",
      "================================================================================\n",
      "Treinando Modelo SVR\n",
      "R2 Score Train: -0.05290574612528798\n",
      "R2 Score Valid: -0.06 +- 0.05\n",
      "R2 Score Test: -0.01807220076769367\n",
      "================================================================================\n",
      "Treinando Modelo KNeighborsRegressor\n",
      "R2 Score Train: 0.523835009863003\n",
      "R2 Score Valid: 0.21 +- 0.15\n",
      "R2 Score Test: 0.3747385483134712\n",
      "================================================================================\n",
      "Treinando Modelo RandomForestRegressor\n",
      "R2 Score Train: 0.7786625360132844\n",
      "R2 Score Valid: 0.26 +- 0.12\n",
      "R2 Score Test: 0.34970813836842096\n",
      "================================================================================\n",
      "Treinando Modelo AdaBoostRegressor\n",
      "R2 Score Train: 0.35220915451113166\n",
      "R2 Score Valid: 0.19 +- 0.19\n",
      "R2 Score Test: 0.011079922024993527\n",
      "================================================================================\n",
      "Treinando Modelo GradientBoostingRegressor\n",
      "R2 Score Train: 0.6424235817962513\n",
      "R2 Score Valid: 0.33 +- 0.08\n",
      "R2 Score Test: 0.25129754768662327\n",
      "================================================================================\n",
      "Treinando Modelo MLPRegressor\n"
     ]
    },
    {
     "name": "stderr",
     "output_type": "stream",
     "text": [
      "/home/cassia/Projects/ibi5031/.venv/lib/python3.8/site-packages/sklearn/neural_network/_multilayer_perceptron.py:582: ConvergenceWarning: Stochastic Optimizer: Maximum iterations (200) reached and the optimization hasn't converged yet.\n",
      "  warnings.warn(\n",
      "/home/cassia/Projects/ibi5031/.venv/lib/python3.8/site-packages/sklearn/neural_network/_multilayer_perceptron.py:582: ConvergenceWarning: Stochastic Optimizer: Maximum iterations (200) reached and the optimization hasn't converged yet.\n",
      "  warnings.warn(\n",
      "/home/cassia/Projects/ibi5031/.venv/lib/python3.8/site-packages/sklearn/neural_network/_multilayer_perceptron.py:582: ConvergenceWarning: Stochastic Optimizer: Maximum iterations (200) reached and the optimization hasn't converged yet.\n",
      "  warnings.warn(\n",
      "/home/cassia/Projects/ibi5031/.venv/lib/python3.8/site-packages/sklearn/neural_network/_multilayer_perceptron.py:582: ConvergenceWarning: Stochastic Optimizer: Maximum iterations (200) reached and the optimization hasn't converged yet.\n",
      "  warnings.warn(\n",
      "/home/cassia/Projects/ibi5031/.venv/lib/python3.8/site-packages/sklearn/neural_network/_multilayer_perceptron.py:582: ConvergenceWarning: Stochastic Optimizer: Maximum iterations (200) reached and the optimization hasn't converged yet.\n",
      "  warnings.warn(\n"
     ]
    },
    {
     "name": "stdout",
     "output_type": "stream",
     "text": [
      "R2 Score Train: 0.264366647265332\n",
      "R2 Score Valid: 0.20 +- 0.18\n",
      "R2 Score Test: -0.23785975583153052\n",
      "================================================================================\n"
     ]
    },
    {
     "name": "stderr",
     "output_type": "stream",
     "text": [
      "/home/cassia/Projects/ibi5031/.venv/lib/python3.8/site-packages/sklearn/neural_network/_multilayer_perceptron.py:582: ConvergenceWarning: Stochastic Optimizer: Maximum iterations (200) reached and the optimization hasn't converged yet.\n",
      "  warnings.warn(\n"
     ]
    }
   ],
   "source": [
    "from sklearn.model_selection import cross_val_score\n",
    "import numpy as np\n",
    "\n",
    "for reg in reg_list:\n",
    "    print(f'Treinando Modelo {reg.__class__.__name__}')\n",
    "    reg.fit(X_train, y_train)\n",
    "    \n",
    "    train_score = reg.score(X_train, y_train)\n",
    "    cv_scores = cross_val_score(reg, X_train, y_train)\n",
    "    test_score = reg.score(X_test, y_test)\n",
    "    \n",
    "    print(f\"R2 Score Train: {train_score}\")\n",
    "    print(f\"R2 Score Valid: {np.mean(cv_scores):.2f} +- {np.std(cv_scores):.2f}\")\n",
    "    print(f\"R2 Score Test: {test_score}\")\n",
    "    print('='*80)"
   ]
  },
  {
   "cell_type": "code",
   "execution_count": 20,
   "metadata": {
    "id": "7JWKZZv8Tdec"
   },
   "outputs": [],
   "source": [
    "# Bonus: Testando com todos os regressores do sklearn\n",
    "from sklearn.utils import all_estimators\n",
    "\n",
    "estimators = all_estimators(type_filter='regressor')\n",
    "\n",
    "relatorio = {'nome':[],\n",
    "             'train_score':[],\n",
    "             'cv_scores_mean':[],\n",
    "             'test_score':[],\n",
    "             'estimador':[]\n",
    "             }\n",
    "\n",
    "ignore_list = ['IsotonicRegression',\n",
    " 'MultiOutputRegressor',\n",
    " 'ElasticNet',\n",
    " 'MultiTaskElasticNet',\n",
    " 'MultiTaskElasticNetCV',\n",
    " 'MultiTaskLasso',\n",
    " 'MultiTaskLassoCV',\n",
    " 'RadiusNeighborsRegressor',\n",
    " 'RegressorChain',\n",
    " 'StackingRegressor',\n",
    " 'VotingRegressor']\n"
   ]
  },
  {
   "cell_type": "code",
   "execution_count": 21,
   "metadata": {
    "id": "dxMCaBxI_Vx5"
   },
   "outputs": [],
   "source": [
    "estimators.extend(\n",
    "    [('LGBMRegressor', LGBMRegressor),\n",
    "     ('XGBRegressor', XGBRegressor)]\n",
    ")"
   ]
  },
  {
   "cell_type": "code",
   "execution_count": 22,
   "metadata": {
    "colab": {
     "base_uri": "https://localhost:8080/"
    },
    "id": "CApLK47B_T9u",
    "outputId": "e3f756f6-2206-4cd4-906d-da6b9290d915"
   },
   "outputs": [
    {
     "name": "stdout",
     "output_type": "stream",
     "text": [
      "Treinando Modelo ARDRegression\n",
      "R2 Score Train: 0.4582655590036737\n",
      "R2 Score Valid: 0.42 +- 0.07\n",
      "R2 Score Test: 0.26675860576821575\n",
      "================================================================================\n",
      "Treinando Modelo AdaBoostRegressor\n",
      "R2 Score Train: 0.33479054619233783\n",
      "R2 Score Valid: 0.18 +- 0.18\n",
      "R2 Score Test: 0.017317613030278567\n",
      "================================================================================\n",
      "Treinando Modelo BaggingRegressor\n",
      "R2 Score Train: 0.753025563851684\n",
      "R2 Score Valid: 0.27 +- 0.11\n",
      "R2 Score Test: 0.2587121042109928\n",
      "================================================================================\n",
      "Treinando Modelo BayesianRidge\n",
      "R2 Score Train: 0.45820267291635575\n",
      "R2 Score Valid: 0.42 +- 0.08\n",
      "R2 Score Test: 0.2690466546246023\n",
      "================================================================================\n",
      "Treinando Modelo CCA\n",
      "R2 Score Train: 0.3031613462213182\n",
      "R2 Score Valid: 0.22 +- 0.21\n",
      "R2 Score Test: -0.4838806801486233\n",
      "================================================================================\n",
      "Treinando Modelo DecisionTreeRegressor\n"
     ]
    },
    {
     "name": "stderr",
     "output_type": "stream",
     "text": [
      "/home/cassia/Projects/ibi5031/.venv/lib/python3.8/site-packages/sklearn/cross_decomposition/_pls.py:323: UserWarning: Y residual constant at iteration 1\n",
      "  warnings.warn('Y residual constant at iteration %s' % k)\n",
      "/home/cassia/Projects/ibi5031/.venv/lib/python3.8/site-packages/sklearn/cross_decomposition/_pls.py:323: UserWarning: Y residual constant at iteration 1\n",
      "  warnings.warn('Y residual constant at iteration %s' % k)\n",
      "/home/cassia/Projects/ibi5031/.venv/lib/python3.8/site-packages/sklearn/cross_decomposition/_pls.py:323: UserWarning: Y residual constant at iteration 1\n",
      "  warnings.warn('Y residual constant at iteration %s' % k)\n",
      "/home/cassia/Projects/ibi5031/.venv/lib/python3.8/site-packages/sklearn/cross_decomposition/_pls.py:323: UserWarning: Y residual constant at iteration 1\n",
      "  warnings.warn('Y residual constant at iteration %s' % k)\n",
      "/home/cassia/Projects/ibi5031/.venv/lib/python3.8/site-packages/sklearn/cross_decomposition/_pls.py:323: UserWarning: Y residual constant at iteration 1\n",
      "  warnings.warn('Y residual constant at iteration %s' % k)\n",
      "/home/cassia/Projects/ibi5031/.venv/lib/python3.8/site-packages/sklearn/cross_decomposition/_pls.py:323: UserWarning: Y residual constant at iteration 1\n",
      "  warnings.warn('Y residual constant at iteration %s' % k)\n"
     ]
    },
    {
     "name": "stdout",
     "output_type": "stream",
     "text": [
      "R2 Score Train: 0.8381916859631515\n",
      "R2 Score Valid: -0.06 +- 0.28\n",
      "R2 Score Test: -0.04218809463764961\n",
      "================================================================================\n",
      "Treinando Modelo DummyRegressor\n",
      "R2 Score Train: 0.0\n",
      "R2 Score Valid: -0.02 +- 0.02\n",
      "R2 Score Test: -0.012722806117509977\n",
      "================================================================================\n",
      "Treinando Modelo ElasticNetCV\n",
      "R2 Score Train: 0.3637139154260802\n",
      "R2 Score Valid: 0.31 +- 0.11\n",
      "R2 Score Test: 0.2003675862457801\n",
      "================================================================================\n",
      "Treinando Modelo ExtraTreeRegressor\n",
      "R2 Score Train: 0.8381916859631515\n",
      "R2 Score Valid: 0.07 +- 0.23\n",
      "R2 Score Test: 0.07692493009157486\n",
      "================================================================================\n",
      "Treinando Modelo ExtraTreesRegressor\n",
      "R2 Score Train: 0.8381915903506333\n",
      "R2 Score Valid: 0.20 +- 0.16\n",
      "R2 Score Test: 0.2555816123256752\n",
      "================================================================================\n",
      "Treinando Modelo GammaRegressor\n",
      "R2 Score Train: 0.37827582760557465\n",
      "R2 Score Valid: 0.35 +- 0.05\n",
      "R2 Score Test: 0.323905342341279\n",
      "================================================================================\n",
      "Treinando Modelo GaussianProcessRegressor\n"
     ]
    },
    {
     "name": "stderr",
     "output_type": "stream",
     "text": [
      "/home/cassia/Projects/ibi5031/.venv/lib/python3.8/site-packages/sklearn/_loss/glm_distribution.py:246: RuntimeWarning: overflow encountered in power\n",
      "  return np.power(y_pred, self.power)\n",
      "/home/cassia/Projects/ibi5031/.venv/lib/python3.8/site-packages/sklearn/_loss/glm_distribution.py:246: RuntimeWarning: overflow encountered in power\n",
      "  return np.power(y_pred, self.power)\n",
      "/home/cassia/Projects/ibi5031/.venv/lib/python3.8/site-packages/sklearn/_loss/glm_distribution.py:246: RuntimeWarning: overflow encountered in power\n",
      "  return np.power(y_pred, self.power)\n",
      "/home/cassia/Projects/ibi5031/.venv/lib/python3.8/site-packages/sklearn/_loss/glm_distribution.py:246: RuntimeWarning: overflow encountered in power\n",
      "  return np.power(y_pred, self.power)\n",
      "/home/cassia/Projects/ibi5031/.venv/lib/python3.8/site-packages/sklearn/_loss/glm_distribution.py:246: RuntimeWarning: overflow encountered in power\n",
      "  return np.power(y_pred, self.power)\n",
      "/home/cassia/Projects/ibi5031/.venv/lib/python3.8/site-packages/sklearn/_loss/glm_distribution.py:246: RuntimeWarning: overflow encountered in power\n",
      "  return np.power(y_pred, self.power)\n"
     ]
    },
    {
     "name": "stdout",
     "output_type": "stream",
     "text": [
      "R2 Score Train: 0.8381916859559063\n",
      "R2 Score Valid: -0.29 +- 0.12\n",
      "R2 Score Test: -0.09790560042544438\n",
      "================================================================================\n",
      "Treinando Modelo GradientBoostingRegressor\n",
      "R2 Score Train: 0.6424235817962513\n",
      "R2 Score Valid: 0.32 +- 0.08\n",
      "R2 Score Test: 0.2608135121523971\n",
      "================================================================================\n",
      "Treinando Modelo HistGradientBoostingRegressor\n",
      "R2 Score Train: 0.5981073857486785\n",
      "R2 Score Valid: 0.37 +- 0.09\n",
      "R2 Score Test: 0.4057661423383503\n",
      "================================================================================\n",
      "Treinando Modelo HuberRegressor\n",
      "R2 Score Train: 0.42133876897818645\n",
      "R2 Score Valid: 0.39 +- 0.04\n",
      "R2 Score Test: 0.3739162381181408\n",
      "================================================================================\n",
      "Treinando Modelo KNeighborsRegressor\n",
      "R2 Score Train: 0.523835009863003\n",
      "R2 Score Valid: 0.21 +- 0.15\n",
      "R2 Score Test: 0.3747385483134712\n",
      "================================================================================\n",
      "Treinando Modelo KernelRidge\n",
      "R2 Score Train: 0.45825255367964257\n",
      "R2 Score Valid: 0.42 +- 0.08\n",
      "R2 Score Test: 0.2685366489969794\n",
      "================================================================================\n",
      "Treinando Modelo Lars\n",
      "R2 Score Train: 0.4583095625580632\n",
      "R2 Score Valid: 0.42 +- 0.08\n",
      "R2 Score Test: 0.2674457175537984\n",
      "================================================================================\n",
      "Treinando Modelo LarsCV\n"
     ]
    },
    {
     "name": "stderr",
     "output_type": "stream",
     "text": [
      "/home/cassia/Projects/ibi5031/.venv/lib/python3.8/site-packages/sklearn/linear_model/_least_angle.py:571: ConvergenceWarning: Regressors in active set degenerate. Dropping a regressor, after 6 iterations, i.e. alpha=1.409e+00, with an active set of 5 regressors, and the smallest cholesky pivot element being 9.424e-08. Reduce max_iter or increase eps parameters.\n",
      "  warnings.warn('Regressors in active set degenerate. '\n",
      "/home/cassia/Projects/ibi5031/.venv/lib/python3.8/site-packages/sklearn/linear_model/_least_angle.py:571: ConvergenceWarning: Regressors in active set degenerate. Dropping a regressor, after 6 iterations, i.e. alpha=8.417e-01, with an active set of 5 regressors, and the smallest cholesky pivot element being 7.068e-08. Reduce max_iter or increase eps parameters.\n",
      "  warnings.warn('Regressors in active set degenerate. '\n"
     ]
    },
    {
     "name": "stdout",
     "output_type": "stream",
     "text": [
      "R2 Score Train: 0.45788670140266097\n",
      "R2 Score Valid: 0.42 +- 0.07\n",
      "R2 Score Test: 0.27941602502309026\n",
      "================================================================================\n",
      "Treinando Modelo Lasso\n",
      "R2 Score Train: 0.45830370145689325\n",
      "R2 Score Valid: 0.42 +- 0.08\n",
      "R2 Score Test: 0.26715562647043023\n",
      "================================================================================\n",
      "Treinando Modelo LassoCV\n",
      "R2 Score Train: 0.4389978140428077\n",
      "R2 Score Valid: 0.40 +- 0.09\n",
      "R2 Score Test: 0.2646415348912624\n",
      "================================================================================\n",
      "Treinando Modelo LassoLars\n",
      "R2 Score Train: 0.4573382630073526\n",
      "R2 Score Valid: 0.42 +- 0.07\n",
      "R2 Score Test: 0.2863730194466877\n",
      "================================================================================\n",
      "Treinando Modelo LassoLarsCV\n",
      "R2 Score Train: 0.45788670140266097\n",
      "R2 Score Valid: 0.42 +- 0.07\n",
      "R2 Score Test: 0.27941602502309026\n",
      "================================================================================\n",
      "Treinando Modelo LassoLarsIC\n",
      "R2 Score Train: 0.45817083850230733\n",
      "R2 Score Valid: 0.42 +- 0.07\n",
      "R2 Score Test: 0.2732691594513621\n",
      "================================================================================\n",
      "Treinando Modelo LinearRegression\n",
      "R2 Score Train: 0.4583095625580632\n",
      "R2 Score Valid: 0.42 +- 0.08\n",
      "R2 Score Test: 0.267445717553804\n",
      "================================================================================\n",
      "Treinando Modelo LinearSVR\n",
      "R2 Score Train: 0.3118091491805205\n",
      "R2 Score Valid: 0.25 +- 0.14\n",
      "R2 Score Test: 0.027769596317125167\n",
      "================================================================================\n",
      "Treinando Modelo MLPRegressor\n"
     ]
    },
    {
     "name": "stderr",
     "output_type": "stream",
     "text": [
      "/home/cassia/Projects/ibi5031/.venv/lib/python3.8/site-packages/sklearn/svm/_base.py:976: ConvergenceWarning: Liblinear failed to converge, increase the number of iterations.\n",
      "  warnings.warn(\"Liblinear failed to converge, increase \"\n",
      "/home/cassia/Projects/ibi5031/.venv/lib/python3.8/site-packages/sklearn/svm/_base.py:976: ConvergenceWarning: Liblinear failed to converge, increase the number of iterations.\n",
      "  warnings.warn(\"Liblinear failed to converge, increase \"\n",
      "/home/cassia/Projects/ibi5031/.venv/lib/python3.8/site-packages/sklearn/neural_network/_multilayer_perceptron.py:582: ConvergenceWarning: Stochastic Optimizer: Maximum iterations (200) reached and the optimization hasn't converged yet.\n",
      "  warnings.warn(\n",
      "/home/cassia/Projects/ibi5031/.venv/lib/python3.8/site-packages/sklearn/neural_network/_multilayer_perceptron.py:582: ConvergenceWarning: Stochastic Optimizer: Maximum iterations (200) reached and the optimization hasn't converged yet.\n",
      "  warnings.warn(\n",
      "/home/cassia/Projects/ibi5031/.venv/lib/python3.8/site-packages/sklearn/neural_network/_multilayer_perceptron.py:582: ConvergenceWarning: Stochastic Optimizer: Maximum iterations (200) reached and the optimization hasn't converged yet.\n",
      "  warnings.warn(\n",
      "/home/cassia/Projects/ibi5031/.venv/lib/python3.8/site-packages/sklearn/neural_network/_multilayer_perceptron.py:582: ConvergenceWarning: Stochastic Optimizer: Maximum iterations (200) reached and the optimization hasn't converged yet.\n",
      "  warnings.warn(\n",
      "/home/cassia/Projects/ibi5031/.venv/lib/python3.8/site-packages/sklearn/neural_network/_multilayer_perceptron.py:582: ConvergenceWarning: Stochastic Optimizer: Maximum iterations (200) reached and the optimization hasn't converged yet.\n",
      "  warnings.warn(\n",
      "/home/cassia/Projects/ibi5031/.venv/lib/python3.8/site-packages/sklearn/neural_network/_multilayer_perceptron.py:582: ConvergenceWarning: Stochastic Optimizer: Maximum iterations (200) reached and the optimization hasn't converged yet.\n",
      "  warnings.warn(\n"
     ]
    },
    {
     "name": "stdout",
     "output_type": "stream",
     "text": [
      "R2 Score Train: 0.26317547679045805\n",
      "R2 Score Valid: 0.20 +- 0.18\n",
      "R2 Score Test: -0.22877535940778215\n",
      "================================================================================\n",
      "Treinando Modelo NuSVR\n",
      "R2 Score Train: -0.01094640771192723\n",
      "R2 Score Valid: -0.02 +- 0.05\n",
      "R2 Score Test: 0.01742868655640395\n",
      "================================================================================\n",
      "Treinando Modelo OrthogonalMatchingPursuit\n",
      "R2 Score Train: 0.3634412854406043\n",
      "R2 Score Valid: 0.31 +- 0.11\n",
      "R2 Score Test: 0.18721176845465193\n",
      "================================================================================\n",
      "Treinando Modelo OrthogonalMatchingPursuitCV\n",
      "R2 Score Train: 0.4582830863931011\n",
      "R2 Score Valid: 0.42 +- 0.08\n",
      "R2 Score Test: 0.2647878686864421\n",
      "================================================================================\n",
      "Treinando Modelo PLSCanonical\n",
      "R2 Score Train: 0.04062490041919198\n",
      "R2 Score Valid: -0.10 +- 0.36\n",
      "R2 Score Test: -0.7367659008753038\n",
      "================================================================================\n",
      "Treinando Modelo PLSRegression\n",
      "R2 Score Train: 0.44990103845492824\n",
      "R2 Score Valid: 0.41 +- 0.07\n",
      "R2 Score Test: 0.31807589776261114\n",
      "================================================================================\n",
      "Treinando Modelo PassiveAggressiveRegressor\n"
     ]
    },
    {
     "name": "stderr",
     "output_type": "stream",
     "text": [
      "/home/cassia/Projects/ibi5031/.venv/lib/python3.8/site-packages/sklearn/cross_decomposition/_pls.py:323: UserWarning: Y residual constant at iteration 1\n",
      "  warnings.warn('Y residual constant at iteration %s' % k)\n",
      "/home/cassia/Projects/ibi5031/.venv/lib/python3.8/site-packages/sklearn/cross_decomposition/_pls.py:323: UserWarning: Y residual constant at iteration 1\n",
      "  warnings.warn('Y residual constant at iteration %s' % k)\n",
      "/home/cassia/Projects/ibi5031/.venv/lib/python3.8/site-packages/sklearn/cross_decomposition/_pls.py:323: UserWarning: Y residual constant at iteration 1\n",
      "  warnings.warn('Y residual constant at iteration %s' % k)\n",
      "/home/cassia/Projects/ibi5031/.venv/lib/python3.8/site-packages/sklearn/cross_decomposition/_pls.py:323: UserWarning: Y residual constant at iteration 1\n",
      "  warnings.warn('Y residual constant at iteration %s' % k)\n",
      "/home/cassia/Projects/ibi5031/.venv/lib/python3.8/site-packages/sklearn/cross_decomposition/_pls.py:323: UserWarning: Y residual constant at iteration 1\n",
      "  warnings.warn('Y residual constant at iteration %s' % k)\n",
      "/home/cassia/Projects/ibi5031/.venv/lib/python3.8/site-packages/sklearn/cross_decomposition/_pls.py:323: UserWarning: Y residual constant at iteration 1\n",
      "  warnings.warn('Y residual constant at iteration %s' % k)\n",
      "/home/cassia/Projects/ibi5031/.venv/lib/python3.8/site-packages/sklearn/linear_model/_glm/glm.py:285: ConvergenceWarning: lbfgs failed to converge (status=1):\n",
      "STOP: TOTAL NO. of ITERATIONS REACHED LIMIT.\n",
      "\n",
      "Increase the number of iterations (max_iter) or scale the data as shown in:\n",
      "    https://scikit-learn.org/stable/modules/preprocessing.html\n",
      "  self.n_iter_ = _check_optimize_result(\"lbfgs\", opt_res)\n",
      "/home/cassia/Projects/ibi5031/.venv/lib/python3.8/site-packages/sklearn/linear_model/_glm/glm.py:285: ConvergenceWarning: lbfgs failed to converge (status=1):\n",
      "STOP: TOTAL NO. of ITERATIONS REACHED LIMIT.\n",
      "\n",
      "Increase the number of iterations (max_iter) or scale the data as shown in:\n",
      "    https://scikit-learn.org/stable/modules/preprocessing.html\n",
      "  self.n_iter_ = _check_optimize_result(\"lbfgs\", opt_res)\n"
     ]
    },
    {
     "name": "stdout",
     "output_type": "stream",
     "text": [
      "R2 Score Train: -1.4416716802548835\n",
      "R2 Score Valid: -1.67 +- 3.58\n",
      "R2 Score Test: -4.659978770926227\n",
      "================================================================================\n",
      "Treinando Modelo PoissonRegressor\n",
      "R2 Score Train: 0.4738743254577996\n",
      "R2 Score Valid: 0.44 +- 0.05\n",
      "R2 Score Test: 0.21906045847103328\n",
      "================================================================================\n",
      "Treinando Modelo RANSACRegressor\n"
     ]
    },
    {
     "name": "stderr",
     "output_type": "stream",
     "text": [
      "/home/cassia/Projects/ibi5031/.venv/lib/python3.8/site-packages/sklearn/linear_model/_glm/glm.py:285: ConvergenceWarning: lbfgs failed to converge (status=1):\n",
      "STOP: TOTAL NO. of ITERATIONS REACHED LIMIT.\n",
      "\n",
      "Increase the number of iterations (max_iter) or scale the data as shown in:\n",
      "    https://scikit-learn.org/stable/modules/preprocessing.html\n",
      "  self.n_iter_ = _check_optimize_result(\"lbfgs\", opt_res)\n",
      "/home/cassia/Projects/ibi5031/.venv/lib/python3.8/site-packages/sklearn/linear_model/_glm/glm.py:285: ConvergenceWarning: lbfgs failed to converge (status=1):\n",
      "STOP: TOTAL NO. of ITERATIONS REACHED LIMIT.\n",
      "\n",
      "Increase the number of iterations (max_iter) or scale the data as shown in:\n",
      "    https://scikit-learn.org/stable/modules/preprocessing.html\n",
      "  self.n_iter_ = _check_optimize_result(\"lbfgs\", opt_res)\n",
      "/home/cassia/Projects/ibi5031/.venv/lib/python3.8/site-packages/sklearn/linear_model/_glm/glm.py:285: ConvergenceWarning: lbfgs failed to converge (status=1):\n",
      "STOP: TOTAL NO. of ITERATIONS REACHED LIMIT.\n",
      "\n",
      "Increase the number of iterations (max_iter) or scale the data as shown in:\n",
      "    https://scikit-learn.org/stable/modules/preprocessing.html\n",
      "  self.n_iter_ = _check_optimize_result(\"lbfgs\", opt_res)\n",
      "/home/cassia/Projects/ibi5031/.venv/lib/python3.8/site-packages/sklearn/linear_model/_glm/glm.py:285: ConvergenceWarning: lbfgs failed to converge (status=1):\n",
      "STOP: TOTAL NO. of ITERATIONS REACHED LIMIT.\n",
      "\n",
      "Increase the number of iterations (max_iter) or scale the data as shown in:\n",
      "    https://scikit-learn.org/stable/modules/preprocessing.html\n",
      "  self.n_iter_ = _check_optimize_result(\"lbfgs\", opt_res)\n"
     ]
    },
    {
     "name": "stdout",
     "output_type": "stream",
     "text": [
      "R2 Score Train: 0.32050157689986647\n",
      "R2 Score Valid: 0.31 +- 0.10\n",
      "R2 Score Test: 0.3453068875455214\n",
      "================================================================================\n",
      "Treinando Modelo RandomForestRegressor\n",
      "R2 Score Train: 0.7766924401448663\n",
      "R2 Score Valid: 0.25 +- 0.16\n",
      "R2 Score Test: 0.34099174105598073\n",
      "================================================================================\n",
      "Treinando Modelo Ridge\n",
      "R2 Score Train: 0.45830751610203424\n",
      "R2 Score Valid: 0.42 +- 0.08\n",
      "R2 Score Test: 0.2676853767521\n",
      "================================================================================\n",
      "Treinando Modelo RidgeCV\n",
      "R2 Score Train: 0.4581210448683818\n",
      "R2 Score Valid: 0.42 +- 0.08\n",
      "R2 Score Test: 0.2695055663797735\n",
      "================================================================================\n",
      "Treinando Modelo SGDRegressor\n",
      "R2 Score Train: -1.023223203640987e+17\n",
      "R2 Score Valid: -3788721462898056192.00 +- 6772915353790668800.00\n",
      "R2 Score Test: -1.7967794938445386e+17\n",
      "================================================================================\n",
      "Treinando Modelo SVR\n",
      "R2 Score Train: -0.05290574612528798\n",
      "R2 Score Valid: -0.06 +- 0.05\n",
      "R2 Score Test: -0.01807220076769367\n",
      "================================================================================\n",
      "Treinando Modelo TheilSenRegressor\n",
      "R2 Score Train: 0.43211426622184257\n",
      "R2 Score Valid: 0.40 +- 0.06\n",
      "R2 Score Test: 0.29954339852379686\n",
      "================================================================================\n",
      "Treinando Modelo TransformedTargetRegressor\n",
      "R2 Score Train: 0.4583095625580632\n",
      "R2 Score Valid: 0.42 +- 0.08\n",
      "R2 Score Test: 0.267445717553804\n",
      "================================================================================\n",
      "Treinando Modelo TweedieRegressor\n",
      "R2 Score Train: 0.39746198091872187\n",
      "R2 Score Valid: 0.35 +- 0.10\n",
      "R2 Score Test: 0.22408692323504775\n",
      "================================================================================\n",
      "Treinando Modelo LGBMRegressor\n",
      "R2 Score Train: 0.5934991352177392\n",
      "R2 Score Valid: 0.38 +- 0.07\n",
      "R2 Score Test: 0.4024894770956645\n",
      "================================================================================\n",
      "Treinando Modelo XGBRegressor\n",
      "R2 Score Train: 0.8285811106579803\n",
      "R2 Score Valid: 0.12 +- 0.19\n",
      "R2 Score Test: 0.33734910110716687\n",
      "================================================================================\n"
     ]
    }
   ],
   "source": [
    "for name, RegressorClass in estimators:\n",
    "  if name not in ignore_list:\n",
    "    print(f'Treinando Modelo {name}')\n",
    "    reg = RegressorClass()\n",
    "    reg.fit(X_train, y_train)\n",
    "\n",
    "    train_score = reg.score(X_train, y_train)\n",
    "    cv_scores = cross_val_score(reg, X_train, y_train)\n",
    "    test_score = reg.score(X_test, y_test)\n",
    "\n",
    "    print(f\"R2 Score Train: {train_score}\")\n",
    "    print(f\"R2 Score Valid: {np.mean(cv_scores):.2f} +- {np.std(cv_scores):.2f}\")\n",
    "    print(f\"R2 Score Test: {test_score}\")\n",
    "    print('='*80)\n",
    "\n",
    "    relatorio['nome'].append(name)\n",
    "    relatorio['train_score'].append(train_score)\n",
    "    relatorio['cv_scores_mean'].append(np.mean(cv_scores))\n",
    "    relatorio['test_score'].append(test_score)\n",
    "    relatorio['estimador'].append(reg)"
   ]
  },
  {
   "cell_type": "code",
   "execution_count": 23,
   "metadata": {
    "colab": {
     "base_uri": "https://localhost:8080/",
     "height": 348
    },
    "id": "bbdGuVWkbxQ6",
    "outputId": "5edbb46e-5f41-4a1c-8db0-b2bef64e3090"
   },
   "outputs": [
    {
     "data": {
      "text/html": [
       "<div>\n",
       "<style scoped>\n",
       "    .dataframe tbody tr th:only-of-type {\n",
       "        vertical-align: middle;\n",
       "    }\n",
       "\n",
       "    .dataframe tbody tr th {\n",
       "        vertical-align: top;\n",
       "    }\n",
       "\n",
       "    .dataframe thead th {\n",
       "        text-align: right;\n",
       "    }\n",
       "</style>\n",
       "<table border=\"1\" class=\"dataframe\">\n",
       "  <thead>\n",
       "    <tr style=\"text-align: right;\">\n",
       "      <th></th>\n",
       "      <th>nome</th>\n",
       "      <th>train_score</th>\n",
       "      <th>cv_scores_mean</th>\n",
       "      <th>test_score</th>\n",
       "      <th>estimador</th>\n",
       "    </tr>\n",
       "  </thead>\n",
       "  <tbody>\n",
       "    <tr>\n",
       "      <th>33</th>\n",
       "      <td>PoissonRegressor</td>\n",
       "      <td>0.473874</td>\n",
       "      <td>0.442586</td>\n",
       "      <td>0.219060</td>\n",
       "      <td>PoissonRegressor()</td>\n",
       "    </tr>\n",
       "    <tr>\n",
       "      <th>29</th>\n",
       "      <td>OrthogonalMatchingPursuitCV</td>\n",
       "      <td>0.458283</td>\n",
       "      <td>0.419052</td>\n",
       "      <td>0.264788</td>\n",
       "      <td>OrthogonalMatchingPursuitCV()</td>\n",
       "    </tr>\n",
       "    <tr>\n",
       "      <th>21</th>\n",
       "      <td>LassoLars</td>\n",
       "      <td>0.457338</td>\n",
       "      <td>0.417960</td>\n",
       "      <td>0.286373</td>\n",
       "      <td>LassoLars()</td>\n",
       "    </tr>\n",
       "    <tr>\n",
       "      <th>0</th>\n",
       "      <td>ARDRegression</td>\n",
       "      <td>0.458266</td>\n",
       "      <td>0.417843</td>\n",
       "      <td>0.266759</td>\n",
       "      <td>ARDRegression()</td>\n",
       "    </tr>\n",
       "    <tr>\n",
       "      <th>23</th>\n",
       "      <td>LassoLarsIC</td>\n",
       "      <td>0.458171</td>\n",
       "      <td>0.416688</td>\n",
       "      <td>0.273269</td>\n",
       "      <td>LassoLarsIC()</td>\n",
       "    </tr>\n",
       "    <tr>\n",
       "      <th>22</th>\n",
       "      <td>LassoLarsCV</td>\n",
       "      <td>0.457887</td>\n",
       "      <td>0.416660</td>\n",
       "      <td>0.279416</td>\n",
       "      <td>LassoLarsCV()</td>\n",
       "    </tr>\n",
       "    <tr>\n",
       "      <th>18</th>\n",
       "      <td>LarsCV</td>\n",
       "      <td>0.457887</td>\n",
       "      <td>0.416659</td>\n",
       "      <td>0.279416</td>\n",
       "      <td>LarsCV()</td>\n",
       "    </tr>\n",
       "    <tr>\n",
       "      <th>19</th>\n",
       "      <td>Lasso</td>\n",
       "      <td>0.458304</td>\n",
       "      <td>0.416394</td>\n",
       "      <td>0.267156</td>\n",
       "      <td>Lasso()</td>\n",
       "    </tr>\n",
       "    <tr>\n",
       "      <th>3</th>\n",
       "      <td>BayesianRidge</td>\n",
       "      <td>0.458203</td>\n",
       "      <td>0.416388</td>\n",
       "      <td>0.269047</td>\n",
       "      <td>BayesianRidge()</td>\n",
       "    </tr>\n",
       "    <tr>\n",
       "      <th>36</th>\n",
       "      <td>Ridge</td>\n",
       "      <td>0.458308</td>\n",
       "      <td>0.416327</td>\n",
       "      <td>0.267685</td>\n",
       "      <td>Ridge()</td>\n",
       "    </tr>\n",
       "  </tbody>\n",
       "</table>\n",
       "</div>"
      ],
      "text/plain": [
       "                           nome  train_score  cv_scores_mean  test_score  \\\n",
       "33             PoissonRegressor     0.473874        0.442586    0.219060   \n",
       "29  OrthogonalMatchingPursuitCV     0.458283        0.419052    0.264788   \n",
       "21                    LassoLars     0.457338        0.417960    0.286373   \n",
       "0                 ARDRegression     0.458266        0.417843    0.266759   \n",
       "23                  LassoLarsIC     0.458171        0.416688    0.273269   \n",
       "22                  LassoLarsCV     0.457887        0.416660    0.279416   \n",
       "18                       LarsCV     0.457887        0.416659    0.279416   \n",
       "19                        Lasso     0.458304        0.416394    0.267156   \n",
       "3                 BayesianRidge     0.458203        0.416388    0.269047   \n",
       "36                        Ridge     0.458308        0.416327    0.267685   \n",
       "\n",
       "                        estimador  \n",
       "33             PoissonRegressor()  \n",
       "29  OrthogonalMatchingPursuitCV()  \n",
       "21                    LassoLars()  \n",
       "0                 ARDRegression()  \n",
       "23                  LassoLarsIC()  \n",
       "22                  LassoLarsCV()  \n",
       "18                       LarsCV()  \n",
       "19                        Lasso()  \n",
       "3                 BayesianRidge()  \n",
       "36                        Ridge()  "
      ]
     },
     "execution_count": 23,
     "metadata": {},
     "output_type": "execute_result"
    }
   ],
   "source": [
    "relatorio = pd.DataFrame(relatorio).sort_values(by='cv_scores_mean', ascending=False)\n",
    "relatorio.head(10)"
   ]
  },
  {
   "cell_type": "markdown",
   "metadata": {
    "id": "ooicjozH-CdH"
   },
   "source": [
    "### 3.4 TODO: Calibrar melhores estimadores usando GridSearchCV"
   ]
  },
  {
   "cell_type": "code",
   "execution_count": 24,
   "metadata": {
    "id": "iH1s0ADL-cyS"
   },
   "outputs": [],
   "source": [
    "## Usar GridSearchCV para calibrar os melhores estimadores\n",
    "from sklearn.model_selection import GridSearchCV"
   ]
  },
  {
   "cell_type": "code",
   "execution_count": 21,
   "metadata": {
    "id": "HFMXLNGH-2Xr"
   },
   "outputs": [],
   "source": []
  },
  {
   "cell_type": "markdown",
   "metadata": {
    "id": "KZqXRTdf-jx_"
   },
   "source": [
    "### 3.5 (Opcional) Combinar os melhores estimadores usando Stacking"
   ]
  },
  {
   "cell_type": "code",
   "execution_count": 25,
   "metadata": {
    "colab": {
     "base_uri": "https://localhost:8080/"
    },
    "id": "8qQQOpXIg-K9",
    "outputId": "0ee95147-9e69-4f50-9482-698dadc94ea3"
   },
   "outputs": [
    {
     "name": "stderr",
     "output_type": "stream",
     "text": [
      "/home/cassia/Projects/ibi5031/.venv/lib/python3.8/site-packages/sklearn/linear_model/_glm/glm.py:285: ConvergenceWarning: lbfgs failed to converge (status=1):\n",
      "STOP: TOTAL NO. of ITERATIONS REACHED LIMIT.\n",
      "\n",
      "Increase the number of iterations (max_iter) or scale the data as shown in:\n",
      "    https://scikit-learn.org/stable/modules/preprocessing.html\n",
      "  self.n_iter_ = _check_optimize_result(\"lbfgs\", opt_res)\n",
      "/home/cassia/Projects/ibi5031/.venv/lib/python3.8/site-packages/sklearn/linear_model/_glm/glm.py:285: ConvergenceWarning: lbfgs failed to converge (status=1):\n",
      "STOP: TOTAL NO. of ITERATIONS REACHED LIMIT.\n",
      "\n",
      "Increase the number of iterations (max_iter) or scale the data as shown in:\n",
      "    https://scikit-learn.org/stable/modules/preprocessing.html\n",
      "  self.n_iter_ = _check_optimize_result(\"lbfgs\", opt_res)\n",
      "/home/cassia/Projects/ibi5031/.venv/lib/python3.8/site-packages/sklearn/linear_model/_glm/glm.py:285: ConvergenceWarning: lbfgs failed to converge (status=1):\n",
      "STOP: TOTAL NO. of ITERATIONS REACHED LIMIT.\n",
      "\n",
      "Increase the number of iterations (max_iter) or scale the data as shown in:\n",
      "    https://scikit-learn.org/stable/modules/preprocessing.html\n",
      "  self.n_iter_ = _check_optimize_result(\"lbfgs\", opt_res)\n",
      "/home/cassia/Projects/ibi5031/.venv/lib/python3.8/site-packages/sklearn/linear_model/_glm/glm.py:285: ConvergenceWarning: lbfgs failed to converge (status=1):\n",
      "STOP: TOTAL NO. of ITERATIONS REACHED LIMIT.\n",
      "\n",
      "Increase the number of iterations (max_iter) or scale the data as shown in:\n",
      "    https://scikit-learn.org/stable/modules/preprocessing.html\n",
      "  self.n_iter_ = _check_optimize_result(\"lbfgs\", opt_res)\n",
      "/home/cassia/Projects/ibi5031/.venv/lib/python3.8/site-packages/sklearn/linear_model/_glm/glm.py:285: ConvergenceWarning: lbfgs failed to converge (status=1):\n",
      "STOP: TOTAL NO. of ITERATIONS REACHED LIMIT.\n",
      "\n",
      "Increase the number of iterations (max_iter) or scale the data as shown in:\n",
      "    https://scikit-learn.org/stable/modules/preprocessing.html\n",
      "  self.n_iter_ = _check_optimize_result(\"lbfgs\", opt_res)\n",
      "/home/cassia/Projects/ibi5031/.venv/lib/python3.8/site-packages/sklearn/linear_model/_glm/glm.py:285: ConvergenceWarning: lbfgs failed to converge (status=1):\n",
      "STOP: TOTAL NO. of ITERATIONS REACHED LIMIT.\n",
      "\n",
      "Increase the number of iterations (max_iter) or scale the data as shown in:\n",
      "    https://scikit-learn.org/stable/modules/preprocessing.html\n",
      "  self.n_iter_ = _check_optimize_result(\"lbfgs\", opt_res)\n",
      "/home/cassia/Projects/ibi5031/.venv/lib/python3.8/site-packages/sklearn/linear_model/_glm/glm.py:285: ConvergenceWarning: lbfgs failed to converge (status=1):\n",
      "STOP: TOTAL NO. of ITERATIONS REACHED LIMIT.\n",
      "\n",
      "Increase the number of iterations (max_iter) or scale the data as shown in:\n",
      "    https://scikit-learn.org/stable/modules/preprocessing.html\n",
      "  self.n_iter_ = _check_optimize_result(\"lbfgs\", opt_res)\n",
      "/home/cassia/Projects/ibi5031/.venv/lib/python3.8/site-packages/sklearn/linear_model/_glm/glm.py:285: ConvergenceWarning: lbfgs failed to converge (status=1):\n",
      "STOP: TOTAL NO. of ITERATIONS REACHED LIMIT.\n",
      "\n",
      "Increase the number of iterations (max_iter) or scale the data as shown in:\n",
      "    https://scikit-learn.org/stable/modules/preprocessing.html\n",
      "  self.n_iter_ = _check_optimize_result(\"lbfgs\", opt_res)\n",
      "/home/cassia/Projects/ibi5031/.venv/lib/python3.8/site-packages/sklearn/linear_model/_glm/glm.py:285: ConvergenceWarning: lbfgs failed to converge (status=1):\n",
      "STOP: TOTAL NO. of ITERATIONS REACHED LIMIT.\n",
      "\n",
      "Increase the number of iterations (max_iter) or scale the data as shown in:\n",
      "    https://scikit-learn.org/stable/modules/preprocessing.html\n",
      "  self.n_iter_ = _check_optimize_result(\"lbfgs\", opt_res)\n",
      "/home/cassia/Projects/ibi5031/.venv/lib/python3.8/site-packages/sklearn/linear_model/_glm/glm.py:285: ConvergenceWarning: lbfgs failed to converge (status=1):\n",
      "STOP: TOTAL NO. of ITERATIONS REACHED LIMIT.\n",
      "\n",
      "Increase the number of iterations (max_iter) or scale the data as shown in:\n",
      "    https://scikit-learn.org/stable/modules/preprocessing.html\n",
      "  self.n_iter_ = _check_optimize_result(\"lbfgs\", opt_res)\n",
      "/home/cassia/Projects/ibi5031/.venv/lib/python3.8/site-packages/sklearn/linear_model/_glm/glm.py:285: ConvergenceWarning: lbfgs failed to converge (status=1):\n",
      "STOP: TOTAL NO. of ITERATIONS REACHED LIMIT.\n",
      "\n",
      "Increase the number of iterations (max_iter) or scale the data as shown in:\n",
      "    https://scikit-learn.org/stable/modules/preprocessing.html\n",
      "  self.n_iter_ = _check_optimize_result(\"lbfgs\", opt_res)\n",
      "/home/cassia/Projects/ibi5031/.venv/lib/python3.8/site-packages/sklearn/linear_model/_glm/glm.py:285: ConvergenceWarning: lbfgs failed to converge (status=1):\n",
      "STOP: TOTAL NO. of ITERATIONS REACHED LIMIT.\n",
      "\n",
      "Increase the number of iterations (max_iter) or scale the data as shown in:\n",
      "    https://scikit-learn.org/stable/modules/preprocessing.html\n",
      "  self.n_iter_ = _check_optimize_result(\"lbfgs\", opt_res)\n",
      "/home/cassia/Projects/ibi5031/.venv/lib/python3.8/site-packages/sklearn/linear_model/_glm/glm.py:285: ConvergenceWarning: lbfgs failed to converge (status=1):\n",
      "STOP: TOTAL NO. of ITERATIONS REACHED LIMIT.\n",
      "\n",
      "Increase the number of iterations (max_iter) or scale the data as shown in:\n",
      "    https://scikit-learn.org/stable/modules/preprocessing.html\n",
      "  self.n_iter_ = _check_optimize_result(\"lbfgs\", opt_res)\n",
      "/home/cassia/Projects/ibi5031/.venv/lib/python3.8/site-packages/sklearn/linear_model/_glm/glm.py:285: ConvergenceWarning: lbfgs failed to converge (status=1):\n",
      "STOP: TOTAL NO. of ITERATIONS REACHED LIMIT.\n",
      "\n",
      "Increase the number of iterations (max_iter) or scale the data as shown in:\n",
      "    https://scikit-learn.org/stable/modules/preprocessing.html\n",
      "  self.n_iter_ = _check_optimize_result(\"lbfgs\", opt_res)\n",
      "/home/cassia/Projects/ibi5031/.venv/lib/python3.8/site-packages/sklearn/linear_model/_glm/glm.py:285: ConvergenceWarning: lbfgs failed to converge (status=1):\n",
      "STOP: TOTAL NO. of ITERATIONS REACHED LIMIT.\n",
      "\n",
      "Increase the number of iterations (max_iter) or scale the data as shown in:\n",
      "    https://scikit-learn.org/stable/modules/preprocessing.html\n",
      "  self.n_iter_ = _check_optimize_result(\"lbfgs\", opt_res)\n",
      "/home/cassia/Projects/ibi5031/.venv/lib/python3.8/site-packages/sklearn/linear_model/_glm/glm.py:285: ConvergenceWarning: lbfgs failed to converge (status=1):\n",
      "STOP: TOTAL NO. of ITERATIONS REACHED LIMIT.\n",
      "\n",
      "Increase the number of iterations (max_iter) or scale the data as shown in:\n",
      "    https://scikit-learn.org/stable/modules/preprocessing.html\n",
      "  self.n_iter_ = _check_optimize_result(\"lbfgs\", opt_res)\n",
      "/home/cassia/Projects/ibi5031/.venv/lib/python3.8/site-packages/sklearn/linear_model/_glm/glm.py:285: ConvergenceWarning: lbfgs failed to converge (status=1):\n",
      "STOP: TOTAL NO. of ITERATIONS REACHED LIMIT.\n",
      "\n",
      "Increase the number of iterations (max_iter) or scale the data as shown in:\n",
      "    https://scikit-learn.org/stable/modules/preprocessing.html\n",
      "  self.n_iter_ = _check_optimize_result(\"lbfgs\", opt_res)\n",
      "/home/cassia/Projects/ibi5031/.venv/lib/python3.8/site-packages/sklearn/linear_model/_glm/glm.py:285: ConvergenceWarning: lbfgs failed to converge (status=1):\n",
      "STOP: TOTAL NO. of ITERATIONS REACHED LIMIT.\n",
      "\n",
      "Increase the number of iterations (max_iter) or scale the data as shown in:\n",
      "    https://scikit-learn.org/stable/modules/preprocessing.html\n",
      "  self.n_iter_ = _check_optimize_result(\"lbfgs\", opt_res)\n",
      "/home/cassia/Projects/ibi5031/.venv/lib/python3.8/site-packages/sklearn/linear_model/_glm/glm.py:285: ConvergenceWarning: lbfgs failed to converge (status=1):\n",
      "STOP: TOTAL NO. of ITERATIONS REACHED LIMIT.\n",
      "\n",
      "Increase the number of iterations (max_iter) or scale the data as shown in:\n",
      "    https://scikit-learn.org/stable/modules/preprocessing.html\n",
      "  self.n_iter_ = _check_optimize_result(\"lbfgs\", opt_res)\n",
      "/home/cassia/Projects/ibi5031/.venv/lib/python3.8/site-packages/sklearn/linear_model/_glm/glm.py:285: ConvergenceWarning: lbfgs failed to converge (status=1):\n",
      "STOP: TOTAL NO. of ITERATIONS REACHED LIMIT.\n",
      "\n",
      "Increase the number of iterations (max_iter) or scale the data as shown in:\n",
      "    https://scikit-learn.org/stable/modules/preprocessing.html\n",
      "  self.n_iter_ = _check_optimize_result(\"lbfgs\", opt_res)\n",
      "/home/cassia/Projects/ibi5031/.venv/lib/python3.8/site-packages/sklearn/linear_model/_glm/glm.py:285: ConvergenceWarning: lbfgs failed to converge (status=1):\n",
      "STOP: TOTAL NO. of ITERATIONS REACHED LIMIT.\n",
      "\n",
      "Increase the number of iterations (max_iter) or scale the data as shown in:\n",
      "    https://scikit-learn.org/stable/modules/preprocessing.html\n",
      "  self.n_iter_ = _check_optimize_result(\"lbfgs\", opt_res)\n",
      "/home/cassia/Projects/ibi5031/.venv/lib/python3.8/site-packages/sklearn/linear_model/_glm/glm.py:285: ConvergenceWarning: lbfgs failed to converge (status=1):\n",
      "STOP: TOTAL NO. of ITERATIONS REACHED LIMIT.\n",
      "\n",
      "Increase the number of iterations (max_iter) or scale the data as shown in:\n",
      "    https://scikit-learn.org/stable/modules/preprocessing.html\n",
      "  self.n_iter_ = _check_optimize_result(\"lbfgs\", opt_res)\n",
      "/home/cassia/Projects/ibi5031/.venv/lib/python3.8/site-packages/sklearn/linear_model/_glm/glm.py:285: ConvergenceWarning: lbfgs failed to converge (status=1):\n",
      "STOP: TOTAL NO. of ITERATIONS REACHED LIMIT.\n",
      "\n",
      "Increase the number of iterations (max_iter) or scale the data as shown in:\n",
      "    https://scikit-learn.org/stable/modules/preprocessing.html\n",
      "  self.n_iter_ = _check_optimize_result(\"lbfgs\", opt_res)\n",
      "/home/cassia/Projects/ibi5031/.venv/lib/python3.8/site-packages/sklearn/linear_model/_glm/glm.py:285: ConvergenceWarning: lbfgs failed to converge (status=1):\n",
      "STOP: TOTAL NO. of ITERATIONS REACHED LIMIT.\n",
      "\n",
      "Increase the number of iterations (max_iter) or scale the data as shown in:\n",
      "    https://scikit-learn.org/stable/modules/preprocessing.html\n",
      "  self.n_iter_ = _check_optimize_result(\"lbfgs\", opt_res)\n",
      "/home/cassia/Projects/ibi5031/.venv/lib/python3.8/site-packages/sklearn/linear_model/_glm/glm.py:285: ConvergenceWarning: lbfgs failed to converge (status=1):\n",
      "STOP: TOTAL NO. of ITERATIONS REACHED LIMIT.\n",
      "\n",
      "Increase the number of iterations (max_iter) or scale the data as shown in:\n",
      "    https://scikit-learn.org/stable/modules/preprocessing.html\n",
      "  self.n_iter_ = _check_optimize_result(\"lbfgs\", opt_res)\n"
     ]
    },
    {
     "name": "stdout",
     "output_type": "stream",
     "text": [
      "R2 Score Train: 0.45948464934473476\n",
      "R2 Score Valid: 0.42 +- 0.07\n",
      "R2 Score Test: 0.12177210994289722\n",
      "================================================================================\n"
     ]
    },
    {
     "name": "stderr",
     "output_type": "stream",
     "text": [
      "/home/cassia/Projects/ibi5031/.venv/lib/python3.8/site-packages/sklearn/linear_model/_glm/glm.py:285: ConvergenceWarning: lbfgs failed to converge (status=1):\n",
      "STOP: TOTAL NO. of ITERATIONS REACHED LIMIT.\n",
      "\n",
      "Increase the number of iterations (max_iter) or scale the data as shown in:\n",
      "    https://scikit-learn.org/stable/modules/preprocessing.html\n",
      "  self.n_iter_ = _check_optimize_result(\"lbfgs\", opt_res)\n",
      "/home/cassia/Projects/ibi5031/.venv/lib/python3.8/site-packages/sklearn/linear_model/_glm/glm.py:285: ConvergenceWarning: lbfgs failed to converge (status=1):\n",
      "STOP: TOTAL NO. of ITERATIONS REACHED LIMIT.\n",
      "\n",
      "Increase the number of iterations (max_iter) or scale the data as shown in:\n",
      "    https://scikit-learn.org/stable/modules/preprocessing.html\n",
      "  self.n_iter_ = _check_optimize_result(\"lbfgs\", opt_res)\n",
      "/home/cassia/Projects/ibi5031/.venv/lib/python3.8/site-packages/sklearn/linear_model/_glm/glm.py:285: ConvergenceWarning: lbfgs failed to converge (status=1):\n",
      "STOP: TOTAL NO. of ITERATIONS REACHED LIMIT.\n",
      "\n",
      "Increase the number of iterations (max_iter) or scale the data as shown in:\n",
      "    https://scikit-learn.org/stable/modules/preprocessing.html\n",
      "  self.n_iter_ = _check_optimize_result(\"lbfgs\", opt_res)\n",
      "/home/cassia/Projects/ibi5031/.venv/lib/python3.8/site-packages/sklearn/linear_model/_glm/glm.py:285: ConvergenceWarning: lbfgs failed to converge (status=1):\n",
      "STOP: TOTAL NO. of ITERATIONS REACHED LIMIT.\n",
      "\n",
      "Increase the number of iterations (max_iter) or scale the data as shown in:\n",
      "    https://scikit-learn.org/stable/modules/preprocessing.html\n",
      "  self.n_iter_ = _check_optimize_result(\"lbfgs\", opt_res)\n",
      "/home/cassia/Projects/ibi5031/.venv/lib/python3.8/site-packages/sklearn/linear_model/_glm/glm.py:285: ConvergenceWarning: lbfgs failed to converge (status=1):\n",
      "STOP: TOTAL NO. of ITERATIONS REACHED LIMIT.\n",
      "\n",
      "Increase the number of iterations (max_iter) or scale the data as shown in:\n",
      "    https://scikit-learn.org/stable/modules/preprocessing.html\n",
      "  self.n_iter_ = _check_optimize_result(\"lbfgs\", opt_res)\n",
      "/home/cassia/Projects/ibi5031/.venv/lib/python3.8/site-packages/sklearn/linear_model/_glm/glm.py:285: ConvergenceWarning: lbfgs failed to converge (status=1):\n",
      "STOP: TOTAL NO. of ITERATIONS REACHED LIMIT.\n",
      "\n",
      "Increase the number of iterations (max_iter) or scale the data as shown in:\n",
      "    https://scikit-learn.org/stable/modules/preprocessing.html\n",
      "  self.n_iter_ = _check_optimize_result(\"lbfgs\", opt_res)\n"
     ]
    }
   ],
   "source": [
    "from sklearn.ensemble import StackingRegressor\n",
    "\n",
    "top_3_regs = relatorio[['nome', 'estimador']].values[:3]\n",
    "\n",
    "reg = StackingRegressor(\n",
    "    estimators=top_3_regs\n",
    ")\n",
    "\n",
    "reg.fit(X_train, y_train)\n",
    "\n",
    "train_score = reg.score(X_train, y_train)\n",
    "cv_scores = cross_val_score(reg, X_train, y_train)\n",
    "test_score = reg.score(X_test, y_test)\n",
    "\n",
    "print(f\"R2 Score Train: {train_score}\")\n",
    "print(f\"R2 Score Valid: {np.mean(cv_scores):.2f} +- {np.std(cv_scores):.2f}\")\n",
    "print(f\"R2 Score Test: {test_score}\")\n",
    "print('='*80)"
   ]
  },
  {
   "cell_type": "code",
   "execution_count": 26,
   "metadata": {
    "colab": {
     "base_uri": "https://localhost:8080/"
    },
    "id": "4z5V0-E5g-AC",
    "outputId": "075f0b97-7414-49b8-c08f-b4cae1569ecc"
   },
   "outputs": [
    {
     "data": {
      "text/plain": [
       "StackingRegressor(estimators=array([['PoissonRegressor', PoissonRegressor()],\n",
       "       ['OrthogonalMatchingPursuitCV', OrthogonalMatchingPursuitCV()],\n",
       "       ['LassoLars', LassoLars()]], dtype=object))"
      ]
     },
     "execution_count": 26,
     "metadata": {},
     "output_type": "execute_result"
    }
   ],
   "source": [
    "reg"
   ]
  },
  {
   "cell_type": "markdown",
   "metadata": {
    "id": "zaXL6sBB1-qi"
   },
   "source": [
    "## 4. Exportar Modelo"
   ]
  },
  {
   "cell_type": "code",
   "execution_count": 27,
   "metadata": {
    "id": "fnT9KWf52Cs0"
   },
   "outputs": [],
   "source": [
    "import pickle\n",
    "pickle.dump(reg, open('regressor.pkl', 'wb'), protocol=4)"
   ]
  },
  {
   "cell_type": "code",
   "execution_count": 28,
   "metadata": {
    "colab": {
     "base_uri": "https://localhost:8080/"
    },
    "id": "C53m18HT2DWi",
    "outputId": "f431be2e-a574-4371-b1f4-79a0b21dc773"
   },
   "outputs": [
    {
     "name": "stdout",
     "output_type": "stream",
     "text": [
      "\u001b[0m\u001b[01;34marquivos\u001b[0m/                          descricao_vaga_uni.txt\r\n",
      "awari-ds-aula7-numpy-pandas.ipynb  \u001b[01;34mdriver\u001b[0m/\r\n",
      "boas_praticas_ml.ipynb             imports_de_dados.ipynb\r\n",
      "coletor_vagas.py                   regressor.pkl\r\n"
     ]
    }
   ],
   "source": [
    "ls"
   ]
  },
  {
   "cell_type": "code",
   "execution_count": 26,
   "metadata": {
    "id": "p-cz2E-n2DQV"
   },
   "outputs": [],
   "source": [
    "%reset -f"
   ]
  },
  {
   "cell_type": "code",
   "execution_count": 29,
   "metadata": {
    "id": "6GsRAjofm_mr"
   },
   "outputs": [],
   "source": [
    "import pickle\n",
    "reg = pickle.load(open('regressor.pkl', 'rb'))"
   ]
  },
  {
   "cell_type": "code",
   "execution_count": 30,
   "metadata": {
    "colab": {
     "base_uri": "https://localhost:8080/"
    },
    "id": "OZdeE_j6nCbG",
    "outputId": "4253adf9-3a49-4ee6-903d-6949b1a6b05f"
   },
   "outputs": [
    {
     "data": {
      "text/plain": [
       "StackingRegressor(estimators=array([['PoissonRegressor', PoissonRegressor()],\n",
       "       ['OrthogonalMatchingPursuitCV', OrthogonalMatchingPursuitCV()],\n",
       "       ['LassoLars', LassoLars()]], dtype=object))"
      ]
     },
     "execution_count": 30,
     "metadata": {},
     "output_type": "execute_result"
    }
   ],
   "source": [
    "reg"
   ]
  },
  {
   "cell_type": "code",
   "execution_count": 34,
   "metadata": {
    "colab": {
     "base_uri": "https://localhost:8080/"
    },
    "id": "vOa_1jPXnKPp",
    "outputId": "024cb124-3b20-420f-ce5e-50d5893b193f"
   },
   "outputs": [
    {
     "data": {
      "text/plain": [
       "array([3795.93508108])"
      ]
     },
     "execution_count": 34,
     "metadata": {},
     "output_type": "execute_result"
    }
   ],
   "source": [
    "import numpy as np\n",
    "reg.predict([[120, 2, 0, 0, 0, 1]])"
   ]
  },
  {
   "cell_type": "code",
   "execution_count": null,
   "metadata": {
    "id": "6hlYG6snscR7"
   },
   "outputs": [],
   "source": []
  }
 ],
 "metadata": {
  "colab": {
   "collapsed_sections": [],
   "name": "boas_praticas_ml.ipynb",
   "provenance": []
  },
  "kernelspec": {
   "display_name": "Python 3",
   "language": "python",
   "name": "python3"
  },
  "language_info": {
   "codemirror_mode": {
    "name": "ipython",
    "version": 3
   },
   "file_extension": ".py",
   "mimetype": "text/x-python",
   "name": "python",
   "nbconvert_exporter": "python",
   "pygments_lexer": "ipython3",
   "version": "3.8.5"
  }
 },
 "nbformat": 4,
 "nbformat_minor": 1
}
