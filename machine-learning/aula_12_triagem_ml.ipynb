{
  "nbformat": 4,
  "nbformat_minor": 0,
  "metadata": {
    "colab": {
      "name": "aula_12_triagem_ml.ipynb",
      "provenance": [],
      "collapsed_sections": [
        "_gbgFLeapU4r"
      ]
    },
    "kernelspec": {
      "name": "python3",
      "display_name": "Python 3"
    }
  },
  "cells": [
    {
      "cell_type": "code",
      "metadata": {
        "id": "PLIctO3EpCOH"
      },
      "source": [
        "import warnings # ignorando warnings \n",
        "warnings.filterwarnings(\"ignore\")\n",
        "\n",
        "import pandas as pd\n",
        "import matplotlib.pyplot as plt\n",
        "import seaborn as sns\n",
        "import numpy as np\n",
        "import pickle\n",
        "from sklearn.model_selection import train_test_split, cross_val_score, GridSearchCV\n",
        "from sklearn.dummy import DummyRegressor\n",
        "from sklearn.neighbors import KNeighborsRegressor\n",
        "from sklearn.tree import DecisionTreeRegressor\n",
        "from sklearn.ensemble import RandomForestRegressor\n",
        "from sklearn.neural_network import MLPRegressor\n",
        "from xgboost import XGBRegressor\n",
        "from sklearn.linear_model import LinearRegression\n",
        "from sklearn.metrics import r2_score"
      ],
      "execution_count": 90,
      "outputs": []
    },
    {
      "cell_type": "markdown",
      "metadata": {
        "id": "_gbgFLeapU4r"
      },
      "source": [
        "### 1. Importar e Preparar os Dados"
      ]
    },
    {
      "cell_type": "code",
      "metadata": {
        "id": "vVciMNHfoZ2y"
      },
      "source": [
        "url = 'https://raw.githubusercontent.com/cassiasamp/calculadora-de-imoveis-mar-21/main/dados_aluguel_sao_paulo_preprocessado.csv'"
      ],
      "execution_count": 49,
      "outputs": []
    },
    {
      "cell_type": "code",
      "metadata": {
        "colab": {
          "base_uri": "https://localhost:8080/",
          "height": 205
        },
        "id": "bns8xjIWpRxL",
        "outputId": "60888623-1a14-4767-ae63-0d96e5936ffe"
      },
      "source": [
        "data = pd.read_csv(url)\n",
        "data.head()"
      ],
      "execution_count": 50,
      "outputs": [
        {
          "output_type": "execute_result",
          "data": {
            "text/html": [
              "<div>\n",
              "<style scoped>\n",
              "    .dataframe tbody tr th:only-of-type {\n",
              "        vertical-align: middle;\n",
              "    }\n",
              "\n",
              "    .dataframe tbody tr th {\n",
              "        vertical-align: top;\n",
              "    }\n",
              "\n",
              "    .dataframe thead th {\n",
              "        text-align: right;\n",
              "    }\n",
              "</style>\n",
              "<table border=\"1\" class=\"dataframe\">\n",
              "  <thead>\n",
              "    <tr style=\"text-align: right;\">\n",
              "      <th></th>\n",
              "      <th>zona</th>\n",
              "      <th>area</th>\n",
              "      <th>quarto</th>\n",
              "      <th>aluguel</th>\n",
              "    </tr>\n",
              "  </thead>\n",
              "  <tbody>\n",
              "    <tr>\n",
              "      <th>0</th>\n",
              "      <td>norte</td>\n",
              "      <td>50.0</td>\n",
              "      <td>2.0</td>\n",
              "      <td>1150</td>\n",
              "    </tr>\n",
              "    <tr>\n",
              "      <th>1</th>\n",
              "      <td>norte</td>\n",
              "      <td>76.0</td>\n",
              "      <td>3.0</td>\n",
              "      <td>1480</td>\n",
              "    </tr>\n",
              "    <tr>\n",
              "      <th>2</th>\n",
              "      <td>norte</td>\n",
              "      <td>30.0</td>\n",
              "      <td>1.0</td>\n",
              "      <td>800</td>\n",
              "    </tr>\n",
              "    <tr>\n",
              "      <th>3</th>\n",
              "      <td>norte</td>\n",
              "      <td>80.0</td>\n",
              "      <td>3.0</td>\n",
              "      <td>1180</td>\n",
              "    </tr>\n",
              "    <tr>\n",
              "      <th>4</th>\n",
              "      <td>norte</td>\n",
              "      <td>70.0</td>\n",
              "      <td>2.0</td>\n",
              "      <td>1300</td>\n",
              "    </tr>\n",
              "  </tbody>\n",
              "</table>\n",
              "</div>"
            ],
            "text/plain": [
              "    zona  area  quarto  aluguel\n",
              "0  norte  50.0     2.0     1150\n",
              "1  norte  76.0     3.0     1480\n",
              "2  norte  30.0     1.0      800\n",
              "3  norte  80.0     3.0     1180\n",
              "4  norte  70.0     2.0     1300"
            ]
          },
          "metadata": {
            "tags": []
          },
          "execution_count": 50
        }
      ]
    },
    {
      "cell_type": "code",
      "metadata": {
        "colab": {
          "base_uri": "https://localhost:8080/",
          "height": 143
        },
        "id": "NpMybVXKqavI",
        "outputId": "b03efcaa-d496-4fa1-8ed5-8334f22c6eee"
      },
      "source": [
        "data.describe().T"
      ],
      "execution_count": 21,
      "outputs": [
        {
          "output_type": "execute_result",
          "data": {
            "text/html": [
              "<div>\n",
              "<style scoped>\n",
              "    .dataframe tbody tr th:only-of-type {\n",
              "        vertical-align: middle;\n",
              "    }\n",
              "\n",
              "    .dataframe tbody tr th {\n",
              "        vertical-align: top;\n",
              "    }\n",
              "\n",
              "    .dataframe thead th {\n",
              "        text-align: right;\n",
              "    }\n",
              "</style>\n",
              "<table border=\"1\" class=\"dataframe\">\n",
              "  <thead>\n",
              "    <tr style=\"text-align: right;\">\n",
              "      <th></th>\n",
              "      <th>count</th>\n",
              "      <th>mean</th>\n",
              "      <th>std</th>\n",
              "      <th>min</th>\n",
              "      <th>25%</th>\n",
              "      <th>50%</th>\n",
              "      <th>75%</th>\n",
              "      <th>max</th>\n",
              "    </tr>\n",
              "  </thead>\n",
              "  <tbody>\n",
              "    <tr>\n",
              "      <th>area</th>\n",
              "      <td>1341.0</td>\n",
              "      <td>112.697987</td>\n",
              "      <td>259.503149</td>\n",
              "      <td>1.0</td>\n",
              "      <td>48.0</td>\n",
              "      <td>67.0</td>\n",
              "      <td>106.0</td>\n",
              "      <td>7800.0</td>\n",
              "    </tr>\n",
              "    <tr>\n",
              "      <th>quarto</th>\n",
              "      <td>1273.0</td>\n",
              "      <td>2.106834</td>\n",
              "      <td>0.882869</td>\n",
              "      <td>1.0</td>\n",
              "      <td>1.0</td>\n",
              "      <td>2.0</td>\n",
              "      <td>3.0</td>\n",
              "      <td>5.0</td>\n",
              "    </tr>\n",
              "    <tr>\n",
              "      <th>aluguel</th>\n",
              "      <td>1344.0</td>\n",
              "      <td>4396.404762</td>\n",
              "      <td>29225.842756</td>\n",
              "      <td>299.0</td>\n",
              "      <td>1500.0</td>\n",
              "      <td>2200.0</td>\n",
              "      <td>3577.5</td>\n",
              "      <td>870000.0</td>\n",
              "    </tr>\n",
              "  </tbody>\n",
              "</table>\n",
              "</div>"
            ],
            "text/plain": [
              "          count         mean           std  ...     50%     75%       max\n",
              "area     1341.0   112.697987    259.503149  ...    67.0   106.0    7800.0\n",
              "quarto   1273.0     2.106834      0.882869  ...     2.0     3.0       5.0\n",
              "aluguel  1344.0  4396.404762  29225.842756  ...  2200.0  3577.5  870000.0\n",
              "\n",
              "[3 rows x 8 columns]"
            ]
          },
          "metadata": {
            "tags": []
          },
          "execution_count": 21
        }
      ]
    },
    {
      "cell_type": "code",
      "metadata": {
        "colab": {
          "base_uri": "https://localhost:8080/"
        },
        "id": "iQzcTPxpqgCQ",
        "outputId": "929baffa-7030-4f8f-8553-536d6a82fc0b"
      },
      "source": [
        "data.info()"
      ],
      "execution_count": 22,
      "outputs": [
        {
          "output_type": "stream",
          "text": [
            "<class 'pandas.core.frame.DataFrame'>\n",
            "RangeIndex: 1344 entries, 0 to 1343\n",
            "Data columns (total 4 columns):\n",
            " #   Column   Non-Null Count  Dtype  \n",
            "---  ------   --------------  -----  \n",
            " 0   zona     1344 non-null   object \n",
            " 1   area     1341 non-null   float64\n",
            " 2   quarto   1273 non-null   float64\n",
            " 3   aluguel  1344 non-null   int64  \n",
            "dtypes: float64(2), int64(1), object(1)\n",
            "memory usage: 42.1+ KB\n"
          ],
          "name": "stdout"
        }
      ]
    },
    {
      "cell_type": "code",
      "metadata": {
        "id": "0OmfqIDlrkDd"
      },
      "source": [
        "train, test = train_test_split(data, test_size=0.25, random_state=123, stratify=data['zona'])"
      ],
      "execution_count": 51,
      "outputs": []
    },
    {
      "cell_type": "code",
      "metadata": {
        "colab": {
          "base_uri": "https://localhost:8080/"
        },
        "id": "ba7SwRCXrj26",
        "outputId": "482e57cc-a85b-4d45-f706-645fe46a1e5f"
      },
      "source": [
        "train.info()"
      ],
      "execution_count": 25,
      "outputs": [
        {
          "output_type": "stream",
          "text": [
            "<class 'pandas.core.frame.DataFrame'>\n",
            "Int64Index: 1008 entries, 221 to 904\n",
            "Data columns (total 4 columns):\n",
            " #   Column   Non-Null Count  Dtype  \n",
            "---  ------   --------------  -----  \n",
            " 0   zona     1008 non-null   object \n",
            " 1   area     1005 non-null   float64\n",
            " 2   quarto   948 non-null    float64\n",
            " 3   aluguel  1008 non-null   int64  \n",
            "dtypes: float64(2), int64(1), object(1)\n",
            "memory usage: 39.4+ KB\n"
          ],
          "name": "stdout"
        }
      ]
    },
    {
      "cell_type": "code",
      "metadata": {
        "colab": {
          "base_uri": "https://localhost:8080/"
        },
        "id": "_Od488TvtnBy",
        "outputId": "8a1633c6-d46c-4aa7-85ff-1342c9e4daa1"
      },
      "source": [
        "train['zona'].value_counts()"
      ],
      "execution_count": 26,
      "outputs": [
        {
          "output_type": "execute_result",
          "data": {
            "text/plain": [
              "oeste    252\n",
              "leste    252\n",
              "norte    252\n",
              "sul      252\n",
              "Name: zona, dtype: int64"
            ]
          },
          "metadata": {
            "tags": []
          },
          "execution_count": 26
        }
      ]
    },
    {
      "cell_type": "code",
      "metadata": {
        "colab": {
          "base_uri": "https://localhost:8080/"
        },
        "id": "vB91DdkxrjzW",
        "outputId": "8637f917-7ff2-41c2-c2fe-1baedfcc6b19"
      },
      "source": [
        "test.info()"
      ],
      "execution_count": 27,
      "outputs": [
        {
          "output_type": "stream",
          "text": [
            "<class 'pandas.core.frame.DataFrame'>\n",
            "Int64Index: 336 entries, 419 to 1159\n",
            "Data columns (total 4 columns):\n",
            " #   Column   Non-Null Count  Dtype  \n",
            "---  ------   --------------  -----  \n",
            " 0   zona     336 non-null    object \n",
            " 1   area     336 non-null    float64\n",
            " 2   quarto   325 non-null    float64\n",
            " 3   aluguel  336 non-null    int64  \n",
            "dtypes: float64(2), int64(1), object(1)\n",
            "memory usage: 13.1+ KB\n"
          ],
          "name": "stdout"
        }
      ]
    },
    {
      "cell_type": "code",
      "metadata": {
        "colab": {
          "base_uri": "https://localhost:8080/"
        },
        "id": "aR6A92QuuAh8",
        "outputId": "1c2fd242-940c-466b-aa82-e844b6f8a4bf"
      },
      "source": [
        "test['zona'].value_counts()"
      ],
      "execution_count": 28,
      "outputs": [
        {
          "output_type": "execute_result",
          "data": {
            "text/plain": [
              "oeste    84\n",
              "leste    84\n",
              "norte    84\n",
              "sul      84\n",
              "Name: zona, dtype: int64"
            ]
          },
          "metadata": {
            "tags": []
          },
          "execution_count": 28
        }
      ]
    },
    {
      "cell_type": "code",
      "metadata": {
        "colab": {
          "base_uri": "https://localhost:8080/",
          "height": 205
        },
        "id": "LEnYFd2asHsw",
        "outputId": "382f5f52-aaac-4bbd-91f3-b7c86b5afc33"
      },
      "source": [
        "test.head()"
      ],
      "execution_count": 29,
      "outputs": [
        {
          "output_type": "execute_result",
          "data": {
            "text/html": [
              "<div>\n",
              "<style scoped>\n",
              "    .dataframe tbody tr th:only-of-type {\n",
              "        vertical-align: middle;\n",
              "    }\n",
              "\n",
              "    .dataframe tbody tr th {\n",
              "        vertical-align: top;\n",
              "    }\n",
              "\n",
              "    .dataframe thead th {\n",
              "        text-align: right;\n",
              "    }\n",
              "</style>\n",
              "<table border=\"1\" class=\"dataframe\">\n",
              "  <thead>\n",
              "    <tr style=\"text-align: right;\">\n",
              "      <th></th>\n",
              "      <th>zona</th>\n",
              "      <th>area</th>\n",
              "      <th>quarto</th>\n",
              "      <th>aluguel</th>\n",
              "    </tr>\n",
              "  </thead>\n",
              "  <tbody>\n",
              "    <tr>\n",
              "      <th>419</th>\n",
              "      <td>sul</td>\n",
              "      <td>52.0</td>\n",
              "      <td>2.0</td>\n",
              "      <td>2020</td>\n",
              "    </tr>\n",
              "    <tr>\n",
              "      <th>366</th>\n",
              "      <td>sul</td>\n",
              "      <td>40.0</td>\n",
              "      <td>1.0</td>\n",
              "      <td>1502</td>\n",
              "    </tr>\n",
              "    <tr>\n",
              "      <th>618</th>\n",
              "      <td>sul</td>\n",
              "      <td>47.0</td>\n",
              "      <td>2.0</td>\n",
              "      <td>1610</td>\n",
              "    </tr>\n",
              "    <tr>\n",
              "      <th>653</th>\n",
              "      <td>sul</td>\n",
              "      <td>115.0</td>\n",
              "      <td>3.0</td>\n",
              "      <td>3000</td>\n",
              "    </tr>\n",
              "    <tr>\n",
              "      <th>248</th>\n",
              "      <td>norte</td>\n",
              "      <td>40.0</td>\n",
              "      <td>1.0</td>\n",
              "      <td>2500</td>\n",
              "    </tr>\n",
              "  </tbody>\n",
              "</table>\n",
              "</div>"
            ],
            "text/plain": [
              "      zona   area  quarto  aluguel\n",
              "419    sul   52.0     2.0     2020\n",
              "366    sul   40.0     1.0     1502\n",
              "618    sul   47.0     2.0     1610\n",
              "653    sul  115.0     3.0     3000\n",
              "248  norte   40.0     1.0     2500"
            ]
          },
          "metadata": {
            "tags": []
          },
          "execution_count": 29
        }
      ]
    },
    {
      "cell_type": "code",
      "metadata": {
        "colab": {
          "base_uri": "https://localhost:8080/",
          "height": 550
        },
        "id": "PeWHoTTitWQT",
        "outputId": "ad93bcb5-cc11-46f0-d3f6-80c83887c526"
      },
      "source": [
        "sns.pairplot(train, kind='reg');"
      ],
      "execution_count": 30,
      "outputs": [
        {
          "output_type": "display_data",
          "data": {
            "image/png": "[encoded data removed]",
            "text/plain": [
              "<Figure size 540x540 with 12 Axes>"
            ]
          },
          "metadata": {
            "tags": [],
            "needs_background": "light"
          }
        }
      ]
    },
    {
      "cell_type": "code",
      "metadata": {
        "id": "s2eMyF8x0f3i"
      },
      "source": [
        "train['aluguel']=train['aluguel'].apply(np.log1p)\n",
        "train['area']=train['area'].apply(np.log1p)\n",
        "train['quarto']=train['quarto'].apply(np.log1p)"
      ],
      "execution_count": 74,
      "outputs": []
    },
    {
      "cell_type": "code",
      "metadata": {
        "id": "x-lKVXRi01ua"
      },
      "source": [
        "test['aluguel']=test['aluguel'].apply(np.log1p)\n",
        "test['area']=test['area'].apply(np.log1p)\n",
        "test['quarto']=test['quarto'].apply(np.log1p)"
      ],
      "execution_count": 75,
      "outputs": []
    },
    {
      "cell_type": "code",
      "metadata": {
        "colab": {
          "base_uri": "https://localhost:8080/",
          "height": 550
        },
        "id": "1q5KZCcE0fLJ",
        "outputId": "1525f02a-4441-460e-9a6a-88ba5472e71e"
      },
      "source": [
        "sns.pairplot(train, kind='reg');"
      ],
      "execution_count": 36,
      "outputs": [
        {
          "output_type": "display_data",
          "data": {
            "image/png": "[encoded data removed]",
            "text/plain": [
              "<Figure size 540x540 with 12 Axes>"
            ]
          },
          "metadata": {
            "tags": [],
            "needs_background": "light"
          }
        }
      ]
    },
    {
      "cell_type": "code",
      "metadata": {
        "id": "0RU7izgVpcT_"
      },
      "source": [
        "X_cols = ['zona', 'area', 'quarto']\n",
        "y_col = ['aluguel']"
      ],
      "execution_count": 54,
      "outputs": []
    },
    {
      "cell_type": "code",
      "metadata": {
        "id": "sg_PHw2XtVc8"
      },
      "source": [
        "X_train = train[X_cols]\n",
        "X_test = test[X_cols]\n",
        "y_train = train[y_col]\n",
        "y_test = test[y_col]"
      ],
      "execution_count": 55,
      "outputs": []
    },
    {
      "cell_type": "code",
      "metadata": {
        "colab": {
          "base_uri": "https://localhost:8080/",
          "height": 205
        },
        "id": "TqKo5pQhu3EQ",
        "outputId": "23ee9596-12a2-4400-be7a-da338bace722"
      },
      "source": [
        "X_train.head()"
      ],
      "execution_count": 56,
      "outputs": [
        {
          "output_type": "execute_result",
          "data": {
            "text/html": [
              "<div>\n",
              "<style scoped>\n",
              "    .dataframe tbody tr th:only-of-type {\n",
              "        vertical-align: middle;\n",
              "    }\n",
              "\n",
              "    .dataframe tbody tr th {\n",
              "        vertical-align: top;\n",
              "    }\n",
              "\n",
              "    .dataframe thead th {\n",
              "        text-align: right;\n",
              "    }\n",
              "</style>\n",
              "<table border=\"1\" class=\"dataframe\">\n",
              "  <thead>\n",
              "    <tr style=\"text-align: right;\">\n",
              "      <th></th>\n",
              "      <th>zona</th>\n",
              "      <th>area</th>\n",
              "      <th>quarto</th>\n",
              "    </tr>\n",
              "  </thead>\n",
              "  <tbody>\n",
              "    <tr>\n",
              "      <th>221</th>\n",
              "      <td>norte</td>\n",
              "      <td>4.007333</td>\n",
              "      <td>1.098612</td>\n",
              "    </tr>\n",
              "    <tr>\n",
              "      <th>956</th>\n",
              "      <td>leste</td>\n",
              "      <td>4.406719</td>\n",
              "      <td>1.386294</td>\n",
              "    </tr>\n",
              "    <tr>\n",
              "      <th>721</th>\n",
              "      <td>leste</td>\n",
              "      <td>4.454347</td>\n",
              "      <td>1.098612</td>\n",
              "    </tr>\n",
              "    <tr>\n",
              "      <th>604</th>\n",
              "      <td>sul</td>\n",
              "      <td>4.369448</td>\n",
              "      <td>1.386294</td>\n",
              "    </tr>\n",
              "    <tr>\n",
              "      <th>119</th>\n",
              "      <td>norte</td>\n",
              "      <td>4.875197</td>\n",
              "      <td>NaN</td>\n",
              "    </tr>\n",
              "  </tbody>\n",
              "</table>\n",
              "</div>"
            ],
            "text/plain": [
              "      zona      area    quarto\n",
              "221  norte  4.007333  1.098612\n",
              "956  leste  4.406719  1.386294\n",
              "721  leste  4.454347  1.098612\n",
              "604    sul  4.369448  1.386294\n",
              "119  norte  4.875197       NaN"
            ]
          },
          "metadata": {
            "tags": []
          },
          "execution_count": 56
        }
      ]
    },
    {
      "cell_type": "code",
      "metadata": {
        "id": "Xrtclk3xtVSu"
      },
      "source": [
        "# Tratar colunas categoricas\n",
        "X_train = pd.get_dummies(X_train)\n",
        "X_test = pd.get_dummies(X_test)"
      ],
      "execution_count": 57,
      "outputs": []
    },
    {
      "cell_type": "code",
      "metadata": {
        "colab": {
          "base_uri": "https://localhost:8080/",
          "height": 205
        },
        "id": "lhuxKPXbtVG6",
        "outputId": "5bda47cd-e829-43d9-fc3e-0e6f49499e53"
      },
      "source": [
        "X_train.head()"
      ],
      "execution_count": 58,
      "outputs": [
        {
          "output_type": "execute_result",
          "data": {
            "text/html": [
              "<div>\n",
              "<style scoped>\n",
              "    .dataframe tbody tr th:only-of-type {\n",
              "        vertical-align: middle;\n",
              "    }\n",
              "\n",
              "    .dataframe tbody tr th {\n",
              "        vertical-align: top;\n",
              "    }\n",
              "\n",
              "    .dataframe thead th {\n",
              "        text-align: right;\n",
              "    }\n",
              "</style>\n",
              "<table border=\"1\" class=\"dataframe\">\n",
              "  <thead>\n",
              "    <tr style=\"text-align: right;\">\n",
              "      <th></th>\n",
              "      <th>area</th>\n",
              "      <th>quarto</th>\n",
              "      <th>zona_leste</th>\n",
              "      <th>zona_norte</th>\n",
              "      <th>zona_oeste</th>\n",
              "      <th>zona_sul</th>\n",
              "    </tr>\n",
              "  </thead>\n",
              "  <tbody>\n",
              "    <tr>\n",
              "      <th>221</th>\n",
              "      <td>4.007333</td>\n",
              "      <td>1.098612</td>\n",
              "      <td>0</td>\n",
              "      <td>1</td>\n",
              "      <td>0</td>\n",
              "      <td>0</td>\n",
              "    </tr>\n",
              "    <tr>\n",
              "      <th>956</th>\n",
              "      <td>4.406719</td>\n",
              "      <td>1.386294</td>\n",
              "      <td>1</td>\n",
              "      <td>0</td>\n",
              "      <td>0</td>\n",
              "      <td>0</td>\n",
              "    </tr>\n",
              "    <tr>\n",
              "      <th>721</th>\n",
              "      <td>4.454347</td>\n",
              "      <td>1.098612</td>\n",
              "      <td>1</td>\n",
              "      <td>0</td>\n",
              "      <td>0</td>\n",
              "      <td>0</td>\n",
              "    </tr>\n",
              "    <tr>\n",
              "      <th>604</th>\n",
              "      <td>4.369448</td>\n",
              "      <td>1.386294</td>\n",
              "      <td>0</td>\n",
              "      <td>0</td>\n",
              "      <td>0</td>\n",
              "      <td>1</td>\n",
              "    </tr>\n",
              "    <tr>\n",
              "      <th>119</th>\n",
              "      <td>4.875197</td>\n",
              "      <td>NaN</td>\n",
              "      <td>0</td>\n",
              "      <td>1</td>\n",
              "      <td>0</td>\n",
              "      <td>0</td>\n",
              "    </tr>\n",
              "  </tbody>\n",
              "</table>\n",
              "</div>"
            ],
            "text/plain": [
              "         area    quarto  zona_leste  zona_norte  zona_oeste  zona_sul\n",
              "221  4.007333  1.098612           0           1           0         0\n",
              "956  4.406719  1.386294           1           0           0         0\n",
              "721  4.454347  1.098612           1           0           0         0\n",
              "604  4.369448  1.386294           0           0           0         1\n",
              "119  4.875197       NaN           0           1           0         0"
            ]
          },
          "metadata": {
            "tags": []
          },
          "execution_count": 58
        }
      ]
    },
    {
      "cell_type": "code",
      "metadata": {
        "id": "Smqf3X3jvhJw"
      },
      "source": [
        "# Tratar valores ausentes\n",
        "# Importante: Usar informações do conjunto de treino\n",
        "train_medians = X_train.median()\n",
        "X_train = X_train.fillna(train_medians)\n",
        "X_test = X_test.fillna(train_medians)"
      ],
      "execution_count": 59,
      "outputs": []
    },
    {
      "cell_type": "code",
      "metadata": {
        "colab": {
          "base_uri": "https://localhost:8080/",
          "height": 205
        },
        "id": "HDUDC5tGw131",
        "outputId": "f5811d62-edf4-4c97-a0cb-6439972d5347"
      },
      "source": [
        "X_train.head()"
      ],
      "execution_count": 60,
      "outputs": [
        {
          "output_type": "execute_result",
          "data": {
            "text/html": [
              "<div>\n",
              "<style scoped>\n",
              "    .dataframe tbody tr th:only-of-type {\n",
              "        vertical-align: middle;\n",
              "    }\n",
              "\n",
              "    .dataframe tbody tr th {\n",
              "        vertical-align: top;\n",
              "    }\n",
              "\n",
              "    .dataframe thead th {\n",
              "        text-align: right;\n",
              "    }\n",
              "</style>\n",
              "<table border=\"1\" class=\"dataframe\">\n",
              "  <thead>\n",
              "    <tr style=\"text-align: right;\">\n",
              "      <th></th>\n",
              "      <th>area</th>\n",
              "      <th>quarto</th>\n",
              "      <th>zona_leste</th>\n",
              "      <th>zona_norte</th>\n",
              "      <th>zona_oeste</th>\n",
              "      <th>zona_sul</th>\n",
              "    </tr>\n",
              "  </thead>\n",
              "  <tbody>\n",
              "    <tr>\n",
              "      <th>221</th>\n",
              "      <td>4.007333</td>\n",
              "      <td>1.098612</td>\n",
              "      <td>0</td>\n",
              "      <td>1</td>\n",
              "      <td>0</td>\n",
              "      <td>0</td>\n",
              "    </tr>\n",
              "    <tr>\n",
              "      <th>956</th>\n",
              "      <td>4.406719</td>\n",
              "      <td>1.386294</td>\n",
              "      <td>1</td>\n",
              "      <td>0</td>\n",
              "      <td>0</td>\n",
              "      <td>0</td>\n",
              "    </tr>\n",
              "    <tr>\n",
              "      <th>721</th>\n",
              "      <td>4.454347</td>\n",
              "      <td>1.098612</td>\n",
              "      <td>1</td>\n",
              "      <td>0</td>\n",
              "      <td>0</td>\n",
              "      <td>0</td>\n",
              "    </tr>\n",
              "    <tr>\n",
              "      <th>604</th>\n",
              "      <td>4.369448</td>\n",
              "      <td>1.386294</td>\n",
              "      <td>0</td>\n",
              "      <td>0</td>\n",
              "      <td>0</td>\n",
              "      <td>1</td>\n",
              "    </tr>\n",
              "    <tr>\n",
              "      <th>119</th>\n",
              "      <td>4.875197</td>\n",
              "      <td>1.098612</td>\n",
              "      <td>0</td>\n",
              "      <td>1</td>\n",
              "      <td>0</td>\n",
              "      <td>0</td>\n",
              "    </tr>\n",
              "  </tbody>\n",
              "</table>\n",
              "</div>"
            ],
            "text/plain": [
              "         area    quarto  zona_leste  zona_norte  zona_oeste  zona_sul\n",
              "221  4.007333  1.098612           0           1           0         0\n",
              "956  4.406719  1.386294           1           0           0         0\n",
              "721  4.454347  1.098612           1           0           0         0\n",
              "604  4.369448  1.386294           0           0           0         1\n",
              "119  4.875197  1.098612           0           1           0         0"
            ]
          },
          "metadata": {
            "tags": []
          },
          "execution_count": 60
        }
      ]
    },
    {
      "cell_type": "markdown",
      "metadata": {
        "id": "QcRo6LAkxPS-"
      },
      "source": [
        "## 2. Machine Learning\n",
        "### 2.1 Definição de Métrica\n",
        "Métricas para regressão:\n",
        "- Mean Absolute Error\n",
        "- Mean Squared Error\n",
        "- R2 Score\n",
        "- Root Mean Squared Error\n",
        "\n",
        "\n",
        "\n",
        "### 2.2 Modelo Dummy e KNN como Base"
      ]
    },
    {
      "cell_type": "code",
      "metadata": {
        "colab": {
          "base_uri": "https://localhost:8080/"
        },
        "id": "zw6TbdOaUkA9",
        "outputId": "19c5f759-7004-4d06-8a1c-0c8c91b5aea6"
      },
      "source": [
        "dummy = DummyRegressor()\n",
        "dummy.fit(X_train, y_train)\n",
        "dummy.score(X_test, y_test) # esse score é o R²"
      ],
      "execution_count": 76,
      "outputs": [
        {
          "output_type": "execute_result",
          "data": {
            "text/plain": [
              "-0.0001003508810866194"
            ]
          },
          "metadata": {
            "tags": []
          },
          "execution_count": 76
        }
      ]
    },
    {
      "cell_type": "code",
      "metadata": {
        "colab": {
          "base_uri": "https://localhost:8080/"
        },
        "id": "0rDSw0i6xMrZ",
        "outputId": "f75e67cf-a92b-4a1d-cca7-4ac99d5a71fc"
      },
      "source": [
        "neigh = KNeighborsRegressor()\n",
        "neigh.fit(X_train, y_train)\n",
        "neigh.score(X_test, y_test)"
      ],
      "execution_count": 77,
      "outputs": [
        {
          "output_type": "execute_result",
          "data": {
            "text/plain": [
              "0.5169350412052822"
            ]
          },
          "metadata": {
            "tags": []
          },
          "execution_count": 77
        }
      ]
    },
    {
      "cell_type": "code",
      "metadata": {
        "id": "zUGJI2Eeyk-_"
      },
      "source": [
        "y_pred = neigh.predict(X_test)"
      ],
      "execution_count": 63,
      "outputs": []
    },
    {
      "cell_type": "code",
      "metadata": {
        "colab": {
          "base_uri": "https://localhost:8080/"
        },
        "id": "WRi-wbbLzRNz",
        "outputId": "2ca65958-a418-4169-913e-82ee89fe38d9"
      },
      "source": [
        "# Root Mean Squared Error\n",
        "np.sqrt(np.mean((y_pred-y_test.values)**2))"
      ],
      "execution_count": 64,
      "outputs": [
        {
          "output_type": "execute_result",
          "data": {
            "text/plain": [
              "0.4732437657205557"
            ]
          },
          "metadata": {
            "tags": []
          },
          "execution_count": 64
        }
      ]
    },
    {
      "cell_type": "code",
      "metadata": {
        "colab": {
          "base_uri": "https://localhost:8080/"
        },
        "id": "ajm4T-Ajyxxe",
        "outputId": "89f7aa7b-9f0a-4a5e-98fb-06d9ad7787a1"
      },
      "source": [
        "# Mean Squared Error\n",
        "np.mean((y_pred-y_test.values)**2)"
      ],
      "execution_count": 65,
      "outputs": [
        {
          "output_type": "execute_result",
          "data": {
            "text/plain": [
              "0.22395966179337223"
            ]
          },
          "metadata": {
            "tags": []
          },
          "execution_count": 65
        }
      ]
    },
    {
      "cell_type": "code",
      "metadata": {
        "colab": {
          "base_uri": "https://localhost:8080/"
        },
        "id": "G_YZEZPUyhJ9",
        "outputId": "406279c2-e5f2-4455-8b22-1da88009b734"
      },
      "source": [
        "# Mean Absolute Error\n",
        "np.mean(np.abs(y_pred-y_test.values))"
      ],
      "execution_count": 66,
      "outputs": [
        {
          "output_type": "execute_result",
          "data": {
            "text/plain": [
              "0.3621253262285776"
            ]
          },
          "metadata": {
            "tags": []
          },
          "execution_count": 66
        }
      ]
    },
    {
      "cell_type": "code",
      "metadata": {
        "colab": {
          "base_uri": "https://localhost:8080/"
        },
        "id": "-d1AcRE3zcjH",
        "outputId": "b73bdbc7-d219-4674-876b-efcffd4cf941"
      },
      "source": [
        "# R2 Score\n",
        "r2_score(y_test, y_pred)"
      ],
      "execution_count": 67,
      "outputs": [
        {
          "output_type": "execute_result",
          "data": {
            "text/plain": [
              "0.5169350412052822"
            ]
          },
          "metadata": {
            "tags": []
          },
          "execution_count": 67
        }
      ]
    },
    {
      "cell_type": "markdown",
      "metadata": {
        "id": "33qA7PaX1egL"
      },
      "source": [
        "## 3. Triagem com Outros Modelos"
      ]
    },
    {
      "cell_type": "code",
      "metadata": {
        "colab": {
          "base_uri": "https://localhost:8080/"
        },
        "id": "FuZbmao8x68i",
        "outputId": "5987d4d3-2332-49a9-ff05-fbd5616ac180"
      },
      "source": [
        "reg = LinearRegression()\n",
        "reg.fit(X_train, y_train)\n",
        "\n",
        "reg.score(X_test, y_test)"
      ],
      "execution_count": 68,
      "outputs": [
        {
          "output_type": "execute_result",
          "data": {
            "text/plain": [
              "0.6093762248236132"
            ]
          },
          "metadata": {
            "tags": []
          },
          "execution_count": 68
        }
      ]
    },
    {
      "cell_type": "code",
      "metadata": {
        "colab": {
          "base_uri": "https://localhost:8080/"
        },
        "id": "6UfiC4Kc14Cd",
        "outputId": "ae30a6ff-f767-4fb1-f5bf-ebb667f0d20b"
      },
      "source": [
        "regressor_list = [DecisionTreeRegressor(),\n",
        "                  RandomForestRegressor(),\n",
        "                  MLPRegressor(),\n",
        "                  XGBRegressor()] # se quiser, adicionar uma vírgula e mais regressores\n",
        "\n",
        "for reg in regressor_list:\n",
        "  print('Treinando', reg.__class__.__name__)\n",
        "  reg.fit(X_train, y_train)\n",
        "  train_score = reg.score(X_train, y_train)\n",
        "  test_score = reg.score(X_test, y_test)\n",
        "  print('Train score', train_score)\n",
        "  print('Test score', test_score)\n",
        "  print('='*80)"
      ],
      "execution_count": 78,
      "outputs": [
        {
          "output_type": "stream",
          "text": [
            "Treinando DecisionTreeRegressor\n",
            "Train score 0.873371877020912\n",
            "Test score 0.1844270573692005\n",
            "================================================================================\n",
            "Treinando RandomForestRegressor\n",
            "Train score 0.8328263731510337\n",
            "Test score 0.43045597574612593\n",
            "================================================================================\n",
            "Treinando MLPRegressor\n",
            "Train score 0.5406031540930618\n",
            "Test score 0.6163056820654133\n",
            "================================================================================\n",
            "Treinando XGBRegressor\n",
            "[17:28:07] WARNING: /workspace/src/objective/regression_obj.cu:152: reg:linear is now deprecated in favor of reg:squarederror.\n",
            "Train score 0.6216956272925864\n",
            "Test score 0.6031620068446988\n",
            "================================================================================\n"
          ],
          "name": "stdout"
        }
      ]
    },
    {
      "cell_type": "code",
      "metadata": {
        "colab": {
          "base_uri": "https://localhost:8080/"
        },
        "id": "8ZwplyJF3GMr",
        "outputId": "a8431c72-ebfc-468d-a1ce-66cd6faccc39"
      },
      "source": [
        "len(X_train)//3"
      ],
      "execution_count": 70,
      "outputs": [
        {
          "output_type": "execute_result",
          "data": {
            "text/plain": [
              "336"
            ]
          },
          "metadata": {
            "tags": []
          },
          "execution_count": 70
        }
      ]
    },
    {
      "cell_type": "code",
      "metadata": {
        "id": "TCdPUxKm3yTY"
      },
      "source": [
        "X1=X_train[:336]\n",
        "X2=X_train[336:2*336]\n",
        "X3=X_train[2*336:]"
      ],
      "execution_count": 71,
      "outputs": []
    },
    {
      "cell_type": "code",
      "metadata": {
        "colab": {
          "base_uri": "https://localhost:8080/"
        },
        "id": "crCgGxhr37gG",
        "outputId": "ce5f4fcf-9b63-41ce-d88b-d8ca6a441a61"
      },
      "source": [
        "# Repetindo com score de validação cruzada\n",
        "\n",
        "regressor_list = [DecisionTreeRegressor(),\n",
        "                  RandomForestRegressor(),\n",
        "                  MLPRegressor(),\n",
        "                  XGBRegressor()]\n",
        "\n",
        "for reg in regressor_list:\n",
        "  print('Treinando', reg.__class__.__name__)\n",
        "  reg.fit(X_train, y_train)\n",
        "  train_score = reg.score(X_train, y_train)\n",
        "  val_score = cross_val_score(reg, X_train, y_train, cv=3)\n",
        "  test_score = reg.score(X_test, y_test)\n",
        "  print('Train score', train_score)\n",
        "  print('Validation score', val_score)\n",
        "  print('Test score', test_score)\n",
        "  print('='*80)"
      ],
      "execution_count": 81,
      "outputs": [
        {
          "output_type": "stream",
          "text": [
            "Treinando DecisionTreeRegressor\n",
            "Train score 0.873371877020912\n",
            "Validation score [-0.06819985  0.31659612  0.33435949]\n",
            "Test score 0.1899433979508297\n",
            "================================================================================\n",
            "Treinando RandomForestRegressor\n",
            "Train score 0.8284090604117651\n",
            "Validation score [0.38474254 0.43045962 0.42357863]\n",
            "Test score 0.47629113576454135\n",
            "================================================================================\n",
            "Treinando MLPRegressor\n",
            "Train score 0.5476456331427733\n",
            "Validation score [0.48011121 0.54279619 0.53724937]\n",
            "Test score 0.6213914423324367\n",
            "================================================================================\n",
            "Treinando XGBRegressor\n",
            "[17:29:08] WARNING: /workspace/src/objective/regression_obj.cu:152: reg:linear is now deprecated in favor of reg:squarederror.\n",
            "[17:29:08] WARNING: /workspace/src/objective/regression_obj.cu:152: reg:linear is now deprecated in favor of reg:squarederror.\n",
            "[17:29:08] WARNING: /workspace/src/objective/regression_obj.cu:152: reg:linear is now deprecated in favor of reg:squarederror.\n",
            "[17:29:08] WARNING: /workspace/src/objective/regression_obj.cu:152: reg:linear is now deprecated in favor of reg:squarederror.\n",
            "Train score 0.6216956272925864\n",
            "Validation score [0.47611934 0.46217938 0.51580278]\n",
            "Test score 0.6031620068446988\n",
            "================================================================================\n"
          ],
          "name": "stdout"
        }
      ]
    },
    {
      "cell_type": "code",
      "metadata": {
        "colab": {
          "base_uri": "https://localhost:8080/"
        },
        "id": "Gko6R35j4z0P",
        "outputId": "524ee427-87e5-406a-829d-b22e682a609d"
      },
      "source": [
        "# Calibração de modelo\n",
        "\n",
        "parameters=[{'learning_rate':[0.1,0.2,0.3,0.4],\n",
        "             'max_depth':[3,4,5,6,7,8],\n",
        "             'n_estimators':[50, 100, 200]}]\n",
        "            \n",
        "xgb = XGBRegressor(n_estimators=100, max_depth=1)\n",
        "gs = GridSearchCV(xgb, parameters, scoring='r2',n_jobs=-1, cv=5)\n",
        "gs.fit(X_train, y_train)"
      ],
      "execution_count": 84,
      "outputs": [
        {
          "output_type": "stream",
          "text": [
            "[17:31:17] WARNING: /workspace/src/objective/regression_obj.cu:152: reg:linear is now deprecated in favor of reg:squarederror.\n"
          ],
          "name": "stdout"
        },
        {
          "output_type": "execute_result",
          "data": {
            "text/plain": [
              "GridSearchCV(cv=5, error_score=nan,\n",
              "             estimator=XGBRegressor(base_score=0.5, booster='gbtree',\n",
              "                                    colsample_bylevel=1, colsample_bynode=1,\n",
              "                                    colsample_bytree=1, gamma=0,\n",
              "                                    importance_type='gain', learning_rate=0.1,\n",
              "                                    max_delta_step=0, max_depth=1,\n",
              "                                    min_child_weight=1, missing=None,\n",
              "                                    n_estimators=100, n_jobs=1, nthread=None,\n",
              "                                    objective='reg:linear', random_state=0,\n",
              "                                    reg_alpha=0, reg_lambda=1,\n",
              "                                    scale_pos_weight=1, seed=None, silent=None,\n",
              "                                    subsample=1, verbosity=1),\n",
              "             iid='deprecated', n_jobs=-1,\n",
              "             param_grid=[{'learning_rate': [0.1, 0.2, 0.3, 0.4],\n",
              "                          'max_depth': [3, 4, 5, 6, 7, 8],\n",
              "                          'n_estimators': [50, 100, 200]}],\n",
              "             pre_dispatch='2*n_jobs', refit=True, return_train_score=False,\n",
              "             scoring='r2', verbose=0)"
            ]
          },
          "metadata": {
            "tags": []
          },
          "execution_count": 84
        }
      ]
    },
    {
      "cell_type": "code",
      "metadata": {
        "colab": {
          "base_uri": "https://localhost:8080/"
        },
        "id": "xpBPXnlO7J0w",
        "outputId": "7437de0c-8129-4c79-8ca7-7dd28bc30a3f"
      },
      "source": [
        "gs.best_params_"
      ],
      "execution_count": 85,
      "outputs": [
        {
          "output_type": "execute_result",
          "data": {
            "text/plain": [
              "{'learning_rate': 0.1, 'max_depth': 3, 'n_estimators': 50}"
            ]
          },
          "metadata": {
            "tags": []
          },
          "execution_count": 85
        }
      ]
    },
    {
      "cell_type": "code",
      "metadata": {
        "id": "V4Ftl8qW7Ppe"
      },
      "source": [
        "reg = gs.best_estimator_"
      ],
      "execution_count": 86,
      "outputs": []
    },
    {
      "cell_type": "code",
      "metadata": {
        "colab": {
          "base_uri": "https://localhost:8080/"
        },
        "id": "OZQ49V27556p",
        "outputId": "da1ba7ba-a626-4d74-c723-0dd892273d60"
      },
      "source": [
        "train_score = reg.score(X_train, y_train)\n",
        "val_score = cross_val_score(reg, X_train, y_train, cv=3)\n",
        "test_score = reg.score(X_test, y_test)\n",
        "\n",
        "print('Train score', train_score)\n",
        "print('Validation score', val_score)\n",
        "print('Test score', test_score)"
      ],
      "execution_count": 89,
      "outputs": [
        {
          "output_type": "stream",
          "text": [
            "[17:33:03] WARNING: /workspace/src/objective/regression_obj.cu:152: reg:linear is now deprecated in favor of reg:squarederror.\n",
            "[17:33:03] WARNING: /workspace/src/objective/regression_obj.cu:152: reg:linear is now deprecated in favor of reg:squarederror.\n",
            "[17:33:03] WARNING: /workspace/src/objective/regression_obj.cu:152: reg:linear is now deprecated in favor of reg:squarederror.\n",
            "Train score 0.5789568757784442\n",
            "Validation score [0.4992717  0.51989244 0.50999327]\n",
            "Test score 0.6060030969986206\n"
          ],
          "name": "stdout"
        }
      ]
    },
    {
      "cell_type": "code",
      "metadata": {
        "id": "P21NNI2n7S0B"
      },
      "source": [
        "# salvando para um arquivo pickle\n",
        "with open('xgboost_reg.pkl', 'wb') as f:\n",
        "    pickle.dump(reg, f)\n",
        "\n",
        "## carregando o arquivo do modelo\n",
        "#with open('xgboost_reg.pkl', 'rb') as f:\n",
        "#    clf = pickle.load(f)"
      ],
      "execution_count": 91,
      "outputs": []
    },
    {
      "cell_type": "code",
      "metadata": {
        "id": "urn0sNEd77SI"
      },
      "source": [
        ""
      ],
      "execution_count": null,
      "outputs": []
    }
  ]
}